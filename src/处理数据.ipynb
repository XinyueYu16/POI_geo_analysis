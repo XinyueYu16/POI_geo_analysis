{
 "cells": [
  {
   "cell_type": "code",
   "execution_count": 10,
   "id": "cc959d34",
   "metadata": {},
   "outputs": [],
   "source": [
    "import pandas as pd\n",
    "import os\n",
    "import re"
   ]
  },
  {
   "cell_type": "code",
   "execution_count": 3,
   "id": "9b3c7e31",
   "metadata": {},
   "outputs": [],
   "source": [
    "fulldata = pd.DataFrame()\n",
    "for i in [csv for csv in os.listdir() if csv.find('tempsave') != -1]:\n",
    "    fulldata = fulldata.append(pd.read_csv(i))"
   ]
  },
  {
   "cell_type": "code",
   "execution_count": 8,
   "id": "6f52210c",
   "metadata": {},
   "outputs": [],
   "source": [
    "ori = pd.read_csv('shopid.csv')\n",
    "comment = fulldata.drop_duplicates(subset = ['id']).dropna()"
   ]
  },
  {
   "cell_type": "code",
   "execution_count": 44,
   "id": "7ff1a127",
   "metadata": {},
   "outputs": [],
   "source": [
    "def get_comment_cnt(comment_str, typename):\n",
    "    '''\n",
    "    获取点评某类评论数量，如好评数量；\n",
    "    评论格式：评论类型(该类评论数量)\n",
    "    '''\n",
    "    \n",
    "    res_str = re.search(f'{typename}\\([0-9]+\\)', comment_str)[0]\n",
    "    res_int = int(res_str.strip(typename).strip('(').strip(')'))\n",
    "    \n",
    "    return res_int"
   ]
  },
  {
   "cell_type": "code",
   "execution_count": 45,
   "id": "17800de5",
   "metadata": {
    "scrolled": true
   },
   "outputs": [],
   "source": [
    "for typename in ['好评', '中评', '差评']:\n",
    "    comment[typename] = comment['comment_text'].apply(lambda x: get_comment_cnt(x, typename))"
   ]
  },
  {
   "cell_type": "code",
   "execution_count": 53,
   "id": "25c0f30d",
   "metadata": {},
   "outputs": [],
   "source": [
    "res = (pd\n",
    " .merge(ori, comment, on = 'id', how = 'left')\n",
    " .drop(['index_right', 'OBJECTID', 'Shape_Leng', 'Shape_Area'], axis = 1))\n",
    "res['实际爬取评论数'] = res[['好评', '中评', '差评']].sum(axis = 1)\n",
    "res.to_csv('研究范围内POI评分_好差评_完整.csv', index = False)"
   ]
  },
  {
   "cell_type": "code",
   "execution_count": 56,
   "id": "398fa169",
   "metadata": {},
   "outputs": [],
   "source": [
    "res['实际爬取评论数'] = res[['好评', '中评', '差评']].sum(axis = 1)\n",
    "res.to_csv('POI评分_好差评_完整.csv', index = False)"
   ]
  }
 ],
 "metadata": {
  "kernelspec": {
   "display_name": "Python 3 (ipykernel)",
   "language": "python",
   "name": "python3"
  },
  "language_info": {
   "codemirror_mode": {
    "name": "ipython",
    "version": 3
   },
   "file_extension": ".py",
   "mimetype": "text/x-python",
   "name": "python",
   "nbconvert_exporter": "python",
   "pygments_lexer": "ipython3",
   "version": "3.7.3"
  },
  "toc": {
   "base_numbering": 1,
   "nav_menu": {},
   "number_sections": true,
   "sideBar": true,
   "skip_h1_title": false,
   "title_cell": "Table of Contents",
   "title_sidebar": "Contents",
   "toc_cell": false,
   "toc_position": {},
   "toc_section_display": true,
   "toc_window_display": false
  },
  "varInspector": {
   "cols": {
    "lenName": 16,
    "lenType": 16,
    "lenVar": 40
   },
   "kernels_config": {
    "python": {
     "delete_cmd_postfix": "",
     "delete_cmd_prefix": "del ",
     "library": "var_list.py",
     "varRefreshCmd": "print(var_dic_list())"
    },
    "r": {
     "delete_cmd_postfix": ") ",
     "delete_cmd_prefix": "rm(",
     "library": "var_list.r",
     "varRefreshCmd": "cat(var_dic_list()) "
    }
   },
   "types_to_exclude": [
    "module",
    "function",
    "builtin_function_or_method",
    "instance",
    "_Feature"
   ],
   "window_display": false
  }
 },
 "nbformat": 4,
 "nbformat_minor": 5
}
