{
 "cells": [
  {
   "cell_type": "code",
   "execution_count": 152,
   "id": "d8a4a2f9",
   "metadata": {},
   "outputs": [],
   "source": [
    "from selenium import webdriver\n",
    "from selenium.webdriver.common.keys import Keys\n",
    "from selenium.webdriver import Chrome, ChromeOptions\n",
    "from selenium.common.exceptions import NoSuchElementException\n",
    "import time\n",
    "import random\n",
    "from tqdm import notebook\n",
    "import pandas as pd\n",
    "from datetime import datetime"
   ]
  },
  {
   "cell_type": "code",
   "execution_count": 153,
   "id": "d563bbff",
   "metadata": {},
   "outputs": [],
   "source": [
    "# 所有需抓取的shop_id列表\n",
    "data = pd.read_csv('shopid.csv')\n",
    "shop_url_list = data['id'].unique()\n",
    "shop_url = shop_url_list[0]"
   ]
  },
  {
   "cell_type": "code",
   "execution_count": 154,
   "id": "c6f8e115",
   "metadata": {},
   "outputs": [],
   "source": [
    "# 店铺url\n",
    "basic_url = 'http://www.dianping.com/shop/'"
   ]
  },
  {
   "cell_type": "code",
   "execution_count": 155,
   "id": "62b8e137",
   "metadata": {},
   "outputs": [],
   "source": [
    "yz_err_list = [] # 因为验证未通过无法抓取的id\n",
    "page_err_list = [] # 因为网页结构问题无法抓取的id"
   ]
  },
  {
   "cell_type": "code",
   "execution_count": null,
   "id": "ab9e5f44",
   "metadata": {},
   "outputs": [],
   "source": [
    "scraped = []\n",
    "for i in [csv for csv in os.listdir() if csv.find('tempsave') != -1]: # 所有已被抓取的都被存入以tempsave开头的csv文件中\n",
    "    scraped += list(pd.read_csv(i)['id'].unique())\n",
    "scraped_set = set(scraped)"
   ]
  },
  {
   "cell_type": "code",
   "execution_count": null,
   "id": "5ef2fa13",
   "metadata": {},
   "outputs": [],
   "source": [
    "# '''\n",
    "# Input: \n",
    "# remain_set: ids to be scraped\n",
    "# proxy_num: the port that mitmdump is listening to \n",
    "# webdriver_path: where your webdriver launcher is \n",
    "# '''\n",
    "\n",
    "remain_set = set(shop_url_list) - scraped_set - set(yz_err_list) - set(page_err_list)\n",
    "print(len(remain_set)) # 需被抓取的url的数量\n",
    "proxy_num = '8080'\n",
    "webdriver_path = '/webdriver_path'\n"
   ]
  },
  {
   "cell_type": "code",
   "execution_count": null,
   "id": "912ec1cf",
   "metadata": {},
   "outputs": [],
   "source": [
    "\n",
    "scraped_list = []\n",
    "err_list = []\n",
    "\n",
    "# set Chromedriver options to conceal webdriver feature\n",
    "option = ChromeOptions()\n",
    "option.add_experimental_option('useAutomationExtension', False)\n",
    "option.add_experimental_option('excludeSwitches', ['enable-automation'])\n",
    "option.add_argument(\"--disable-blink-features\")\n",
    "option.add_argument(\"--disable-blink-features=AutomationControlled\")\n",
    "PROXY = f\"127.0.0.1:{proxy_num}\"\n",
    "option.add_argument('--proxy-server=%s'%PROXY)\n",
    "driver = webdriver.Chrome(webdriver_path\n",
    "                        , options=option)\n",
    "\n",
    "\n",
    "for shop_url_idx in notebook.tqdm(range(len(remain_set))):\n",
    "    try:\n",
    "        # save every 150 ids\n",
    "        if (shop_url_idx%150 == 0) & (shop_url_idx != 0):\n",
    "            temp_save = pd.DataFrame(scraped_list, columns = ['id', 'comment_text'])\n",
    "            temp_save.to_csv(f'tempsave_{str(datetime.now())}.csv', index = False)\n",
    "            print(f'saved to tempsave_{str(datetime.now())}.csv')\n",
    "            time.sleep(50)\n",
    "        \n",
    "        url1 = basic_url + list(remain_set)[shop_url_idx]        \n",
    "        contents = driver.get(url1)\n",
    "        time.sleep(random.randint(8, 12))\n",
    "        \n",
    "        # id == summaryfilter-wrapper, for comments\n",
    "        res = driver.find_element_by_id('summaryfilter-wrapper').text\n",
    "        scraped_list.append((list(remain_set)[shop_url_idx], res))\n",
    "\n",
    "    except NoSuchElementException:\n",
    "        print(url1)\n",
    "        # 每次保存都存一下以防万一\n",
    "        temp_save = pd.DataFrame(scraped_list, columns = ['id', 'comment_text'])\n",
    "        temp_save.to_csv(f'tempsave{str(datetime.now())}.csv', index = False)\n",
    "        while True: \n",
    "            if \"验证中心\" in driver.page_source:\n",
    "                yz_err_list.append(list(remain_set)[shop_url_idx])\n",
    "                time.sleep(10)\n",
    "            else:\n",
    "                break\n",
    "        if \"验证中心\" not in driver.page_source:\n",
    "            try:\n",
    "                res = driver.find_element_by_id('summaryfilter-wrapper').text\n",
    "                scraped_list.append((list(remain_set)[shop_url_idx], res))\n",
    "                time.sleep(8)\n",
    "            except NoSuchElementException:\n",
    "                page_err_list.append(list(remain_set)[shop_url_idx])\n",
    "                time.sleep(4)\n",
    "        pass\n",
    "\n"
   ]
  }
 ],
 "metadata": {
  "kernelspec": {
   "display_name": "Python 3 (ipykernel)",
   "language": "python",
   "name": "python3"
  },
  "language_info": {
   "codemirror_mode": {
    "name": "ipython",
    "version": 3
   },
   "file_extension": ".py",
   "mimetype": "text/x-python",
   "name": "python",
   "nbconvert_exporter": "python",
   "pygments_lexer": "ipython3",
   "version": "3.7.3"
  },
  "toc": {
   "base_numbering": 1,
   "nav_menu": {},
   "number_sections": true,
   "sideBar": true,
   "skip_h1_title": false,
   "title_cell": "Table of Contents",
   "title_sidebar": "Contents",
   "toc_cell": false,
   "toc_position": {},
   "toc_section_display": true,
   "toc_window_display": true
  },
  "varInspector": {
   "cols": {
    "lenName": 16,
    "lenType": 16,
    "lenVar": 40
   },
   "kernels_config": {
    "python": {
     "delete_cmd_postfix": "",
     "delete_cmd_prefix": "del ",
     "library": "var_list.py",
     "varRefreshCmd": "print(var_dic_list())"
    },
    "r": {
     "delete_cmd_postfix": ") ",
     "delete_cmd_prefix": "rm(",
     "library": "var_list.r",
     "varRefreshCmd": "cat(var_dic_list()) "
    }
   },
   "types_to_exclude": [
    "module",
    "function",
    "builtin_function_or_method",
    "instance",
    "_Feature"
   ],
   "window_display": false
  }
 },
 "nbformat": 4,
 "nbformat_minor": 5
}
