{
 "cells": [
  {
   "cell_type": "code",
   "execution_count": 152,
   "id": "d8a4a2f9",
   "metadata": {},
   "outputs": [],
   "source": [
    "from selenium import webdriver\n",
    "from selenium.webdriver.common.keys import Keys\n",
    "from selenium.webdriver import Chrome, ChromeOptions\n",
    "from selenium.common.exceptions import NoSuchElementException\n",
    "import time\n",
    "import random\n",
    "from tqdm import notebook\n",
    "import pandas as pd\n",
    "from datetime import datetime"
   ]
  },
  {
   "cell_type": "code",
   "execution_count": 153,
   "id": "d563bbff",
   "metadata": {},
   "outputs": [],
   "source": [
    "# 所有需抓取的shop_id列表\n",
    "data = pd.read_csv('shopid.csv')\n",
    "shop_url_list = data['id'].unique()\n",
    "shop_url = shop_url_list[0]"
   ]
  },
  {
   "cell_type": "code",
   "execution_count": 154,
   "id": "c6f8e115",
   "metadata": {},
   "outputs": [],
   "source": [
    "# 店铺url\n",
    "basic_url = 'http://www.dianping.com/shop/'"
   ]
  },
  {
   "cell_type": "code",
   "execution_count": 155,
   "id": "62b8e137",
   "metadata": {},
   "outputs": [],
   "source": [
    "yz_err_list = [] # 因为验证未通过无法抓取的id\n",
    "page_err_list = [] # 因为网页结构问题无法抓取的id"
   ]
  },
  {
   "cell_type": "code",
   "execution_count": null,
   "id": "ab9e5f44",
   "metadata": {},
   "outputs": [],
   "source": [
    "scraped = []\n",
    "for i in [csv for csv in os.listdir() if csv.find('tempsave') != -1]: # 所有已被抓取的都被存入以tempsave开头的csv文件中\n",
    "    scraped += list(pd.read_csv(i)['id'].unique())\n",
    "scraped_set = set(scraped)"
   ]
  },
  {
   "cell_type": "code",
   "execution_count": null,
   "id": "5ef2fa13",
   "metadata": {},
   "outputs": [],
   "source": [
    "# '''\n",
    "# Input: \n",
    "# remain_set: ids to be scraped\n",
    "# proxy_num: the port that mitmdump is listening to \n",
    "# webdriver_path: where your webdriver launcher is \n",
    "# '''\n",
    "\n",
    "remain_set = set(shop_url_list) - scraped_set - set(yz_err_list) - set(page_err_list)\n",
    "print(len(remain_set)) # 需被抓取的url的数量\n",
    "proxy_num = '8080'\n",
    "webdriver_path = '/webdriver_path'\n"
   ]
  },
  {
   "cell_type": "code",
   "execution_count": 316,
   "id": "912ec1cf",
   "metadata": {},
   "outputs": [
    {
     "name": "stdout",
     "output_type": "stream",
     "text": [
      "69\n"
     ]
    },
    {
     "name": "stderr",
     "output_type": "stream",
     "text": [
      "/home/willa/.local/lib/python3.7/site-packages/ipykernel_launcher.py:20: DeprecationWarning: executable_path has been deprecated, please pass in a Service object\n"
     ]
    },
    {
     "data": {
      "application/vnd.jupyter.widget-view+json": {
       "model_id": "97ea50bc3efc4cb29382bfc9b27f5e45",
       "version_major": 2,
       "version_minor": 0
      },
      "text/plain": [
       "  0%|          | 0/69 [00:00<?, ?it/s]"
      ]
     },
     "metadata": {},
     "output_type": "display_data"
    },
    {
     "name": "stderr",
     "output_type": "stream",
     "text": [
      "/home/willa/.local/lib/python3.7/site-packages/ipykernel_launcher.py:35: DeprecationWarning: find_element_by_* commands are deprecated. Please use find_element() instead\n"
     ]
    },
    {
     "name": "stdout",
     "output_type": "stream",
     "text": [
      "http://www.dianping.com/shop/l5KcOyEmgIjHag9c\n",
      "http://www.dianping.com/shop/k9r4bP6nCWNOHKX2\n",
      "http://www.dianping.com/shop/G2lEQPk0D7SBro3B\n"
     ]
    }
   ],
   "source": [
    "\n",
    "scraped_list = []\n",
    "err_list = []\n",
    "\n",
    "# set Chromedriver options to conceal webdriver feature\n",
    "option = ChromeOptions()\n",
    "option.add_experimental_option('useAutomationExtension', False)\n",
    "option.add_experimental_option('excludeSwitches', ['enable-automation'])\n",
    "option.add_argument(\"--disable-blink-features\")\n",
    "option.add_argument(\"--disable-blink-features=AutomationControlled\")\n",
    "PROXY = f\"127.0.0.1:{proxy_num}\"\n",
    "option.add_argument('--proxy-server=%s'%PROXY)\n",
    "driver = webdriver.Chrome(webdriver_path\n",
    "                        , options=option)\n",
    "\n",
    "\n",
    "for shop_url_idx in notebook.tqdm(range(len(remain_set))):\n",
    "    try:\n",
    "        # save every 150 ids\n",
    "        if (shop_url_idx%150 == 0) & (shop_url_idx != 0):\n",
    "            temp_save = pd.DataFrame(scraped_list, columns = ['id', 'comment_text'])\n",
    "            temp_save.to_csv(f'tempsave_{str(datetime.now())}.csv', index = False)\n",
    "            print(f'saved to tempsave_{str(datetime.now())}.csv')\n",
    "            time.sleep(50)\n",
    "        \n",
    "        url1 = basic_url + list(remain_set)[shop_url_idx]        \n",
    "        contents = driver.get(url1)\n",
    "        time.sleep(random.randint(8, 12))\n",
    "        \n",
    "        # id == summaryfilter-wrapper, for comments\n",
    "        res = driver.find_element_by_id('summaryfilter-wrapper').text\n",
    "        scraped_list.append((list(remain_set)[shop_url_idx], res))\n",
    "\n",
    "    except NoSuchElementException:\n",
    "        print(url1)\n",
    "        # 每次保存都存一下以防万一\n",
    "        temp_save = pd.DataFrame(scraped_list, columns = ['id', 'comment_text'])\n",
    "        temp_save.to_csv(f'tempsave{str(datetime.now())}.csv', index = False)\n",
    "        while True: \n",
    "            if \"验证中心\" in driver.page_source:\n",
    "                yz_err_list.append(list(remain_set)[shop_url_idx])\n",
    "                time.sleep(10)\n",
    "            else:\n",
    "                break\n",
    "        if \"验证中心\" not in driver.page_source:\n",
    "            try:\n",
    "                res = driver.find_element_by_id('summaryfilter-wrapper').text\n",
    "                scraped_list.append((list(remain_set)[shop_url_idx], res))\n",
    "                time.sleep(8)\n",
    "            except NoSuchElementException:\n",
    "                page_err_list.append(list(remain_set)[shop_url_idx])\n",
    "                time.sleep(4)\n",
    "        pass\n",
    "\n"
   ]
  },
  {
   "cell_type": "code",
   "execution_count": 314,
   "id": "0e5e3e3a",
   "metadata": {},
   "outputs": [],
   "source": [
    "temp_save = pd.DataFrame(scraped_list4, columns = ['id', 'comment_text'])\n",
    "temp_save.to_csv(f'tempsave{str(datetime.now())}.csv', index = False)"
   ]
  },
  {
   "cell_type": "markdown",
   "id": "52ca8aae",
   "metadata": {},
   "source": [
    "# header"
   ]
  },
  {
   "cell_type": "code",
   "execution_count": 31,
   "id": "8d836602",
   "metadata": {
    "scrolled": true
   },
   "outputs": [],
   "source": [
    "import requests\n",
    "from bs4 import BeautifulSoup"
   ]
  },
  {
   "cell_type": "code",
   "execution_count": null,
   "id": "7be21ecd",
   "metadata": {},
   "outputs": [],
   "source": [
    "def webcapture(url):\n",
    "    headers = {\n",
    "   # pretend I am a browser\n",
    "   'User-Agent': 'Mozilla/5.0',\n",
    "   }\n",
    "    session = requests.Session() #setup session\n",
    "    data = session.get(url, headers=headers) #scrape the data\n",
    "    soup = BeautifulSoup(data.text, 'html.parser') #parse the data\n",
    "    return soup #return the parsed data\n"
   ]
  },
  {
   "cell_type": "code",
   "execution_count": 32,
   "id": "82ecd23e",
   "metadata": {},
   "outputs": [],
   "source": [
    "def craft_dp_comment_header(urlid):\n",
    "    headers = {\n",
    "        'Cookie': 's_ViewType=10; _lxsdk_cuid=1753fe5ef134c-0c735d38376786-c781f38-e1000-1753fe5ef14c8; _lxsdk=1753fe5ef134c-0c735d38376786-c781f38-e1000-1753fe5ef14c8; _lx_utm=utm_source%3Dgoogle%26utm_medium%3Dorganic; _hc.v=23325fa6-3ee9-a6a1-f004-fd67d15be960.1636200883; Hm_lvt_602b80cf8079ae6591966cc70a3940e7=1636200883; fspop=test; cy=1; cye=shanghai; Hm_lpvt_602b80cf8079ae6591966cc70a3940e7=1636202836; _lxsdk_s=17cf52c20c6-50e-a96-ae9%7C%7C113',\n",
    "        'Host': 'www.dianping.com',\n",
    "        'Proxy-Connection': 'keep-alive',\n",
    "        'Referer': f'http://www.dianping.com/shop/{urlid}',\n",
    "        'User-Agent': 'Mozilla/5.0 (Windows NT 10.0; Win64; x64) AppleWebKit/537.36 (KHTML, like Gecko) Chrome/95.0.4638.69 Safari/537.36'\n",
    "    }\n",
    "    session = requests.Session() #setup session\n",
    "    data = session.get(url, headers=headers) #scrape the data\n",
    "    soup = BeautifulSoup(data.text, 'html.parser') #parse the data\n",
    "    return soup #return the parsed data"
   ]
  },
  {
   "cell_type": "code",
   "execution_count": 106,
   "id": "905036e8",
   "metadata": {},
   "outputs": [],
   "source": [
    "url = 'http://www.dianping.com/shop/iNEqdrWJQZ0G69Ts'"
   ]
  },
  {
   "cell_type": "code",
   "execution_count": 107,
   "id": "d1561047",
   "metadata": {},
   "outputs": [],
   "source": [
    "headers = {\n",
    "        'Cookie': 's_ViewType=10; _lxsdk_cuid=1753fe5ef134c-0c735d38376786-c781f38-e1000-1753fe5ef14c8; _lxsdk=1753fe5ef134c-0c735d38376786-c781f38-e1000-1753fe5ef14c8; _lx_utm=utm_source%3Dgoogle%26utm_medium%3Dorganic; _hc.v=23325fa6-3ee9-a6a1-f004-fd67d15be960.1636200883; Hm_lvt_602b80cf8079ae6591966cc70a3940e7=1636200883; fspop=test; cy=1; cye=shanghai; Hm_lpvt_602b80cf8079ae6591966cc70a3940e7=1636202836; _lxsdk_s=17cf52c20c6-50e-a96-ae9%7C%7C113',\n",
    "        'Host': 'www.dianping.com',\n",
    "        'Proxy-Connection': 'keep-alive',\n",
    "        'User-Agent': 'Mozilla/5.0 (Windows NT 10.0; Win64; x64) AppleWebKit/537.36 (KHTML, like Gecko) Chrome/95.0.4638.69 Safari/537.36'\n",
    "    }\n",
    "session = requests.Session() #setup session\n",
    "data = session.get(url, headers=headers) #scrape the data"
   ]
  },
  {
   "cell_type": "code",
   "execution_count": 108,
   "id": "13e223f1",
   "metadata": {},
   "outputs": [
    {
     "data": {
      "text/plain": [
       "<Response [200]>"
      ]
     },
     "execution_count": 108,
     "metadata": {},
     "output_type": "execute_result"
    }
   ],
   "source": [
    "data\n"
   ]
  },
  {
   "cell_type": "code",
   "execution_count": 35,
   "id": "22e232c3",
   "metadata": {},
   "outputs": [],
   "source": [
    "comment_url = 'http://www.dianping.com/ajax/json/shopDynamic/allReview?shopId=H51KYTdbxIDejKup&cityId=13&shopType=10&tcv=mn7fl73gmx&_token=eJxVj1tvgkAQhf%2FLvkpg2UVuSR802BYUUmHFSuMDN5FScGVBtE3%2Fe5fYPjSZ5Jz5Zk4y8wVaOwOmDCFUZAFc8haYQBahqAIBdIxPVKwiiBA2kI4EkP5nBuahpA0tYL7JSIfCVNP2I%2FE5uBMNwb1wt6rOLVJ4jTs2XwHHrqOmJA3DIGZl3NCyKcT0VEvseKLS81Re7kiWXG0rf1%2F2lJ8EeLImY1IzdAFjPIJqBFzjX%2B3%2Bepc%2Fw0OsLBrucudKAqaw88F3GdnAkLFLUFUdK7EXwA%2Fvpl9XJFy0n6y4zFyq1HOq%2BkpcOY%2Bh0p%2F9Oo%2FSbeGG1rLogmQNPdmmqxS7pLy1xqLxSPUabB3nEE37OKKT7e5JPTRhWcxnLxPD1jcP4PsHSUZpnA%3D%3D&uuid=23325fa6-3ee9-a6a1-f004-fd67d15be960.1636200883&platform=1&partner=150&optimusCode=10&originUrl=http%3A%2F%2Fwww.dianping.com%2Fshop%2FH51KYTdbxIDejKup'"
   ]
  },
  {
   "cell_type": "markdown",
   "id": "4c144da7",
   "metadata": {},
   "source": [
    "# 尝试\n",
    "https://www.jianshu.com/p/8326186c0273"
   ]
  },
  {
   "cell_type": "code",
   "execution_count": 330,
   "id": "cba4cac9",
   "metadata": {},
   "outputs": [
    {
     "ename": "FileNotFoundError",
     "evalue": "[Errno 2] No such file or directory: 'cookie/03.cookies.txt'",
     "output_type": "error",
     "traceback": [
      "\u001b[0;31m---------------------------------------------------------------------------\u001b[0m",
      "\u001b[0;31mFileNotFoundError\u001b[0m                         Traceback (most recent call last)",
      "\u001b[0;32m/tmp/ipykernel_18/1353275608.py\u001b[0m in \u001b[0;36m<module>\u001b[0;34m\u001b[0m\n\u001b[0;32m----> 1\u001b[0;31m \u001b[0mprocess_cookie\u001b[0m\u001b[0;34m(\u001b[0m\u001b[0mrefresh_cookie\u001b[0m \u001b[0;34m=\u001b[0m \u001b[0;32mTrue\u001b[0m\u001b[0;34m)\u001b[0m\u001b[0;34m\u001b[0m\u001b[0;34m\u001b[0m\u001b[0m\n\u001b[0m",
      "\u001b[0;32m/tmp/ipykernel_18/2423166807.py\u001b[0m in \u001b[0;36mprocess_cookie\u001b[0;34m(refresh_cookie)\u001b[0m\n\u001b[1;32m     43\u001b[0m         \u001b[0mcookie\u001b[0m \u001b[0;34m=\u001b[0m \u001b[0;34m{\u001b[0m\u001b[0mcookie\u001b[0m\u001b[0;34m[\u001b[0m\u001b[0;34m'name'\u001b[0m\u001b[0;34m]\u001b[0m\u001b[0;34m:\u001b[0m \u001b[0mcookie\u001b[0m\u001b[0;34m[\u001b[0m\u001b[0;34m'value'\u001b[0m\u001b[0;34m]\u001b[0m \u001b[0;32mfor\u001b[0m \u001b[0mcookie\u001b[0m \u001b[0;32min\u001b[0m \u001b[0mdriver\u001b[0m\u001b[0;34m.\u001b[0m\u001b[0mget_cookies\u001b[0m\u001b[0;34m(\u001b[0m\u001b[0;34m)\u001b[0m\u001b[0;34m}\u001b[0m\u001b[0;34m\u001b[0m\u001b[0;34m\u001b[0m\u001b[0m\n\u001b[1;32m     44\u001b[0m         \u001b[0;31m# 将获取到的cookie保存下来，避免重复获取\u001b[0m\u001b[0;34m\u001b[0m\u001b[0;34m\u001b[0m\u001b[0;34m\u001b[0m\u001b[0m\n\u001b[0;32m---> 45\u001b[0;31m         \u001b[0;32mwith\u001b[0m \u001b[0mopen\u001b[0m\u001b[0;34m(\u001b[0m\u001b[0;34m'cookie/03.cookies.txt'\u001b[0m\u001b[0;34m,\u001b[0m \u001b[0;34m'w'\u001b[0m\u001b[0;34m)\u001b[0m \u001b[0;32mas\u001b[0m \u001b[0mf\u001b[0m\u001b[0;34m:\u001b[0m\u001b[0;34m\u001b[0m\u001b[0;34m\u001b[0m\u001b[0m\n\u001b[0m\u001b[1;32m     46\u001b[0m             \u001b[0mf\u001b[0m\u001b[0;34m.\u001b[0m\u001b[0mwrite\u001b[0m\u001b[0;34m(\u001b[0m\u001b[0mjson\u001b[0m\u001b[0;34m.\u001b[0m\u001b[0mdumps\u001b[0m\u001b[0;34m(\u001b[0m\u001b[0mdriver\u001b[0m\u001b[0;34m.\u001b[0m\u001b[0mget_cookies\u001b[0m\u001b[0;34m(\u001b[0m\u001b[0;34m)\u001b[0m\u001b[0;34m)\u001b[0m\u001b[0;34m)\u001b[0m\u001b[0;34m\u001b[0m\u001b[0;34m\u001b[0m\u001b[0m\n\u001b[1;32m     47\u001b[0m         \u001b[0mdriver\u001b[0m\u001b[0;34m.\u001b[0m\u001b[0mquit\u001b[0m\u001b[0;34m(\u001b[0m\u001b[0;34m)\u001b[0m\u001b[0;34m\u001b[0m\u001b[0;34m\u001b[0m\u001b[0m\n",
      "\u001b[0;31mFileNotFoundError\u001b[0m: [Errno 2] No such file or directory: 'cookie/03.cookies.txt'"
     ]
    }
   ],
   "source": [
    "process_cookie(refresh_cookie = True)"
   ]
  },
  {
   "cell_type": "code",
   "execution_count": 331,
   "id": "4c662b1c",
   "metadata": {},
   "outputs": [],
   "source": [
    "\n",
    "import random\n",
    "import requests\n",
    "import json\n",
    "from selenium import webdriver\n",
    "from time import sleep\n",
    "from bs4 import BeautifulSoup as BS\n",
    "\n",
    "\n",
    "def login():\n",
    "    \"\"\"\n",
    "    登录函数\n",
    "    \"\"\"\n",
    "    login_url = 'https://account.dianping.com/login?redir=http%3A%2F%2Fwww.dianping.com%2F'\n",
    "    driver.get(login_url)   # 打开登录页面，手动扫码登录\n",
    "\n",
    "    while True:\n",
    "        try:\n",
    "            driver.find_element_by_class_name('login-container')  # 还能找到\"请登录\"\n",
    "            sleep(2)\n",
    "        except:\n",
    "            driver.find_element_by_class_name('countDown')  # 登录成功\n",
    "            break\n",
    "\n",
    "    print('登录成功')\n",
    "\n",
    "\n",
    "def process_cookie(refresh_cookie=True):\n",
    "    \"\"\"\n",
    "    处理cookie，将driver 的 cookie复制到 requests，并把cookie保存下来供下次使用\n",
    "    :param refresh_cookie: 是否从selenium更新cookie\n",
    "    :return:\n",
    "    \"\"\"\n",
    "    headers = {\n",
    "        'User-Agent': UA,\n",
    "        'Accept': 'text/html,application/xhtml+xml,application/xml;q=0.9,image/avif,image/webp,image/apng,*/*;q=0.8,application/signed-exchange;v=b3;q=0.9',\n",
    "        'Accept-Language': 'zh-CN,zh;q=0.9,en-US;q=0.8,en;q=0.7',\n",
    "        'Upgrade-Insecure-Requests': '1',\n",
    "        'Cache-Control': 'max-age=0',\n",
    "    }\n",
    "    session.headers.update(headers)\n",
    "    # 将selenium中的cookie复制到requests.session()中\n",
    "    if refresh_cookie:\n",
    "        cookie = {cookie['name']: cookie['value'] for cookie in driver.get_cookies()}\n",
    "        # 将获取到的cookie保存下来，避免重复获取\n",
    "        with open('03.cookies.txt', 'w') as f:\n",
    "            f.write(json.dumps(driver.get_cookies()))\n",
    "        driver.quit()\n",
    "        print('从selenium更新cookie')\n",
    "    else:\n",
    "        with open('03.cookies.txt', 'r') as f:\n",
    "            cookies = json.loads(f.read())\n",
    "            cookie = {_cookie['name']: _cookie['value'] for _cookie in cookies}\n",
    "        print('从本地缓存更新cookie')\n",
    "    session.cookies.update(cookie)\n",
    "\n",
    "\n",
    "def fetch_shoplist(page_num=1):\n",
    "    \"\"\"\n",
    "    获取美食分区下的店铺信息\n",
    "    \"\"\"\n",
    "    city = 'guangzhou'\n",
    "    food_shop_url = f'http://www.dianping.com/{city}/ch10'  # /p1~\n",
    "    shop_info = []\n",
    "    for i in range(1, page_num + 1):\n",
    "        # driver.get(food_shop_url + f'/p{i}')\n",
    "        res = session.get(food_shop_url + f'/p{i}')\n",
    "        # soup = BS(driver.page_source, 'lxml')\n",
    "        soup = BS(res.content, 'lxml')\n",
    "        page_shop = soup.find_all('div', class_='txt')\n",
    "        for shop in page_shop:\n",
    "            shop_info.append({\n",
    "                'shopid': shop.a['data-shopid'],\n",
    "                'name': shop.a.text.strip(),\n",
    "                'score': shop.find('div', class_='nebula_star').text.strip()\n",
    "            })\n",
    "    return shop_info\n",
    "\n",
    "\n",
    "def fetch_comment(shopid='H7fXoNAkafmesfFG', page=1):\n",
    "    \"\"\"\n",
    "    爬取指定店铺下的用户评论\n",
    "    :param shopid: 店铺ID\n",
    "    :param page: 页码\n",
    "    :return: 解析后的评论信息\n",
    "    \"\"\"\n",
    "    url = f'http://www.dianping.com/shop/{shopid}/review_all'\n",
    "    if page != 1:\n",
    "        url += f'/p{page}'\n",
    "    # driver.get(url)\n",
    "    # soup = BS(driver.page_source, 'lxml')\n",
    "    res = session.get(url)\n",
    "    soup = BS(res.text, 'lxml')\n",
    "    comments = soup.find_all('div', class_='main-review')\n",
    "    comment_list = []\n",
    "    for item in comments:   # 遍历所有评论\n",
    "        username = item.find('div', class_='dper-info').text.strip()\n",
    "        items = item.find_all('span', class_='item')     # 各项评分\n",
    "        detail_score = []\n",
    "        for _item in items:\n",
    "            detail_score.append(_item.text.strip())\n",
    "        content = item.find('div', class_='review-words').text.strip()  # 获取到的评论不全，做了CSS加密\n",
    "        comment_list.append({'username': username, 'item': detail_score, 'content': content})\n",
    "    return comment_list\n",
    "\n",
    "\n"
   ]
  },
  {
   "cell_type": "code",
   "execution_count": 327,
   "id": "dd2c05a7",
   "metadata": {},
   "outputs": [
    {
     "name": "stderr",
     "output_type": "stream",
     "text": [
      "/home/willa/.local/lib/python3.7/site-packages/ipykernel_launcher.py:16: DeprecationWarning: executable_path has been deprecated, please pass in a Service object\n",
      "  app.launch_new_instance()\n",
      "/home/willa/.local/lib/python3.7/site-packages/ipykernel_launcher.py:18: DeprecationWarning: find_element_by_* commands are deprecated. Please use find_element() instead\n",
      "/home/willa/.local/lib/python3.7/site-packages/ipykernel_launcher.py:21: DeprecationWarning: find_element_by_* commands are deprecated. Please use find_element() instead\n"
     ]
    },
    {
     "ename": "NoSuchElementException",
     "evalue": "Message: no such element: Unable to locate element: {\"method\":\"css selector\",\"selector\":\".countDown\"}\n  (Session info: chrome=95.0.4638.69)\nStacktrace:\nBacktrace:\n\tOrdinal0 [0x00BF06F3+2492147]\n\tOrdinal0 [0x00B89BD1+2071505]\n\tOrdinal0 [0x00A92478+1057912]\n\tOrdinal0 [0x00ABC964+1231204]\n\tOrdinal0 [0x00AE6B62+1403746]\n\tOrdinal0 [0x00AD57FA+1333242]\n\tOrdinal0 [0x00AE4F38+1396536]\n\tOrdinal0 [0x00AD568B+1332875]\n\tOrdinal0 [0x00AB21D4+1188308]\n\tOrdinal0 [0x00AB302F+1191983]\n\tGetHandleVerifier [0x00D767A6+1545030]\n\tGetHandleVerifier [0x00E2105C+2243580]\n\tGetHandleVerifier [0x00C7BC97+518199]\n\tGetHandleVerifier [0x00C7AD80+514336]\n\tOrdinal0 [0x00B8ED2D+2092333]\n\tOrdinal0 [0x00B92EE8+2109160]\n\tOrdinal0 [0x00B93022+2109474]\n\tOrdinal0 [0x00B9CB71+2149233]\n\tBaseThreadInitThunk [0x7638FA29+25]\n\tRtlGetAppContainerNamedObjectPath [0x77AD7A9E+286]\n\tRtlGetAppContainerNamedObjectPath [0x77AD7A6E+238]\n",
     "output_type": "error",
     "traceback": [
      "\u001b[0;31m---------------------------------------------------------------------------\u001b[0m",
      "\u001b[0;31mNoSuchElementException\u001b[0m                    Traceback (most recent call last)",
      "\u001b[0;32m/tmp/ipykernel_18/2423166807.py\u001b[0m in \u001b[0;36mlogin\u001b[0;34m()\u001b[0m\n\u001b[1;32m     17\u001b[0m         \u001b[0;32mtry\u001b[0m\u001b[0;34m:\u001b[0m\u001b[0;34m\u001b[0m\u001b[0;34m\u001b[0m\u001b[0m\n\u001b[0;32m---> 18\u001b[0;31m             \u001b[0mdriver\u001b[0m\u001b[0;34m.\u001b[0m\u001b[0mfind_element_by_class_name\u001b[0m\u001b[0;34m(\u001b[0m\u001b[0;34m'login-container'\u001b[0m\u001b[0;34m)\u001b[0m  \u001b[0;31m# 还能找到\"请登录\"\u001b[0m\u001b[0;34m\u001b[0m\u001b[0;34m\u001b[0m\u001b[0m\n\u001b[0m\u001b[1;32m     19\u001b[0m             \u001b[0msleep\u001b[0m\u001b[0;34m(\u001b[0m\u001b[0;36m2\u001b[0m\u001b[0;34m)\u001b[0m\u001b[0;34m\u001b[0m\u001b[0;34m\u001b[0m\u001b[0m\n",
      "\u001b[0;32m~/.local/lib/python3.7/site-packages/selenium/webdriver/remote/webdriver.py\u001b[0m in \u001b[0;36mfind_element_by_class_name\u001b[0;34m(self, name)\u001b[0m\n\u001b[1;32m    753\u001b[0m         )\n\u001b[0;32m--> 754\u001b[0;31m         \u001b[0;32mreturn\u001b[0m \u001b[0mself\u001b[0m\u001b[0;34m.\u001b[0m\u001b[0mfind_element\u001b[0m\u001b[0;34m(\u001b[0m\u001b[0mby\u001b[0m\u001b[0;34m=\u001b[0m\u001b[0mBy\u001b[0m\u001b[0;34m.\u001b[0m\u001b[0mCLASS_NAME\u001b[0m\u001b[0;34m,\u001b[0m \u001b[0mvalue\u001b[0m\u001b[0;34m=\u001b[0m\u001b[0mname\u001b[0m\u001b[0;34m)\u001b[0m\u001b[0;34m\u001b[0m\u001b[0;34m\u001b[0m\u001b[0m\n\u001b[0m\u001b[1;32m    755\u001b[0m \u001b[0;34m\u001b[0m\u001b[0m\n",
      "\u001b[0;32m~/.local/lib/python3.7/site-packages/selenium/webdriver/remote/webdriver.py\u001b[0m in \u001b[0;36mfind_element\u001b[0;34m(self, by, value)\u001b[0m\n\u001b[1;32m   1239\u001b[0m             \u001b[0;34m'using'\u001b[0m\u001b[0;34m:\u001b[0m \u001b[0mby\u001b[0m\u001b[0;34m,\u001b[0m\u001b[0;34m\u001b[0m\u001b[0;34m\u001b[0m\u001b[0m\n\u001b[0;32m-> 1240\u001b[0;31m             'value': value})['value']\n\u001b[0m\u001b[1;32m   1241\u001b[0m \u001b[0;34m\u001b[0m\u001b[0m\n",
      "\u001b[0;32m~/.local/lib/python3.7/site-packages/selenium/webdriver/remote/webdriver.py\u001b[0m in \u001b[0;36mexecute\u001b[0;34m(self, driver_command, params)\u001b[0m\n\u001b[1;32m    417\u001b[0m         \u001b[0;32mif\u001b[0m \u001b[0mresponse\u001b[0m\u001b[0;34m:\u001b[0m\u001b[0;34m\u001b[0m\u001b[0;34m\u001b[0m\u001b[0m\n\u001b[0;32m--> 418\u001b[0;31m             \u001b[0mself\u001b[0m\u001b[0;34m.\u001b[0m\u001b[0merror_handler\u001b[0m\u001b[0;34m.\u001b[0m\u001b[0mcheck_response\u001b[0m\u001b[0;34m(\u001b[0m\u001b[0mresponse\u001b[0m\u001b[0;34m)\u001b[0m\u001b[0;34m\u001b[0m\u001b[0;34m\u001b[0m\u001b[0m\n\u001b[0m\u001b[1;32m    419\u001b[0m             response['value'] = self._unwrap_value(\n",
      "\u001b[0;32m~/.local/lib/python3.7/site-packages/selenium/webdriver/remote/errorhandler.py\u001b[0m in \u001b[0;36mcheck_response\u001b[0;34m(self, response)\u001b[0m\n\u001b[1;32m    242\u001b[0m             \u001b[0;32mraise\u001b[0m \u001b[0mexception_class\u001b[0m\u001b[0;34m(\u001b[0m\u001b[0mmessage\u001b[0m\u001b[0;34m,\u001b[0m \u001b[0mscreen\u001b[0m\u001b[0;34m,\u001b[0m \u001b[0mstacktrace\u001b[0m\u001b[0;34m,\u001b[0m \u001b[0malert_text\u001b[0m\u001b[0;34m)\u001b[0m  \u001b[0;31m# type: ignore[call-arg]  # mypy is not smart enough here\u001b[0m\u001b[0;34m\u001b[0m\u001b[0;34m\u001b[0m\u001b[0m\n\u001b[0;32m--> 243\u001b[0;31m         \u001b[0;32mraise\u001b[0m \u001b[0mexception_class\u001b[0m\u001b[0;34m(\u001b[0m\u001b[0mmessage\u001b[0m\u001b[0;34m,\u001b[0m \u001b[0mscreen\u001b[0m\u001b[0;34m,\u001b[0m \u001b[0mstacktrace\u001b[0m\u001b[0;34m)\u001b[0m\u001b[0;34m\u001b[0m\u001b[0;34m\u001b[0m\u001b[0m\n\u001b[0m\u001b[1;32m    244\u001b[0m \u001b[0;34m\u001b[0m\u001b[0m\n",
      "\u001b[0;31mNoSuchElementException\u001b[0m: Message: no such element: Unable to locate element: {\"method\":\"css selector\",\"selector\":\".login-container\"}\n  (Session info: chrome=95.0.4638.69)\nStacktrace:\nBacktrace:\n\tOrdinal0 [0x00BF06F3+2492147]\n\tOrdinal0 [0x00B89BD1+2071505]\n\tOrdinal0 [0x00A92478+1057912]\n\tOrdinal0 [0x00ABC964+1231204]\n\tOrdinal0 [0x00AE6B62+1403746]\n\tOrdinal0 [0x00AD57FA+1333242]\n\tOrdinal0 [0x00AE4F38+1396536]\n\tOrdinal0 [0x00AD568B+1332875]\n\tOrdinal0 [0x00AB21D4+1188308]\n\tOrdinal0 [0x00AB302F+1191983]\n\tGetHandleVerifier [0x00D767A6+1545030]\n\tGetHandleVerifier [0x00E2105C+2243580]\n\tGetHandleVerifier [0x00C7BC97+518199]\n\tGetHandleVerifier [0x00C7AD80+514336]\n\tOrdinal0 [0x00B8ED2D+2092333]\n\tOrdinal0 [0x00B92EE8+2109160]\n\tOrdinal0 [0x00B93022+2109474]\n\tOrdinal0 [0x00B9CB71+2149233]\n\tBaseThreadInitThunk [0x7638FA29+25]\n\tRtlGetAppContainerNamedObjectPath [0x77AD7A9E+286]\n\tRtlGetAppContainerNamedObjectPath [0x77AD7A6E+238]\n",
      "\nDuring handling of the above exception, another exception occurred:\n",
      "\u001b[0;31mNoSuchElementException\u001b[0m                    Traceback (most recent call last)",
      "\u001b[0;32m/tmp/ipykernel_18/1287904877.py\u001b[0m in \u001b[0;36m<module>\u001b[0;34m\u001b[0m\n\u001b[1;32m     26\u001b[0m     })\n\u001b[1;32m     27\u001b[0m \u001b[0;34m\u001b[0m\u001b[0m\n\u001b[0;32m---> 28\u001b[0;31m     \u001b[0mlogin\u001b[0m\u001b[0;34m(\u001b[0m\u001b[0;34m)\u001b[0m\u001b[0;34m\u001b[0m\u001b[0;34m\u001b[0m\u001b[0m\n\u001b[0m\u001b[1;32m     29\u001b[0m \u001b[0mprocess_cookie\u001b[0m\u001b[0;34m(\u001b[0m\u001b[0mrefresh_cookie\u001b[0m\u001b[0;34m)\u001b[0m\u001b[0;34m\u001b[0m\u001b[0;34m\u001b[0m\u001b[0m\n\u001b[1;32m     30\u001b[0m \u001b[0mshop_info\u001b[0m \u001b[0;34m=\u001b[0m \u001b[0mfetch_shoplist\u001b[0m\u001b[0;34m(\u001b[0m\u001b[0;34m)\u001b[0m\u001b[0;34m\u001b[0m\u001b[0;34m\u001b[0m\u001b[0m\n",
      "\u001b[0;32m/tmp/ipykernel_18/2423166807.py\u001b[0m in \u001b[0;36mlogin\u001b[0;34m()\u001b[0m\n\u001b[1;32m     19\u001b[0m             \u001b[0msleep\u001b[0m\u001b[0;34m(\u001b[0m\u001b[0;36m2\u001b[0m\u001b[0;34m)\u001b[0m\u001b[0;34m\u001b[0m\u001b[0;34m\u001b[0m\u001b[0m\n\u001b[1;32m     20\u001b[0m         \u001b[0;32mexcept\u001b[0m\u001b[0;34m:\u001b[0m\u001b[0;34m\u001b[0m\u001b[0;34m\u001b[0m\u001b[0m\n\u001b[0;32m---> 21\u001b[0;31m             \u001b[0mdriver\u001b[0m\u001b[0;34m.\u001b[0m\u001b[0mfind_element_by_class_name\u001b[0m\u001b[0;34m(\u001b[0m\u001b[0;34m'countDown'\u001b[0m\u001b[0;34m)\u001b[0m  \u001b[0;31m# 登录成功\u001b[0m\u001b[0;34m\u001b[0m\u001b[0;34m\u001b[0m\u001b[0m\n\u001b[0m\u001b[1;32m     22\u001b[0m             \u001b[0;32mbreak\u001b[0m\u001b[0;34m\u001b[0m\u001b[0;34m\u001b[0m\u001b[0m\n\u001b[1;32m     23\u001b[0m \u001b[0;34m\u001b[0m\u001b[0m\n",
      "\u001b[0;32m~/.local/lib/python3.7/site-packages/selenium/webdriver/remote/webdriver.py\u001b[0m in \u001b[0;36mfind_element_by_class_name\u001b[0;34m(self, name)\u001b[0m\n\u001b[1;32m    752\u001b[0m             \u001b[0mstacklevel\u001b[0m\u001b[0;34m=\u001b[0m\u001b[0;36m2\u001b[0m\u001b[0;34m,\u001b[0m\u001b[0;34m\u001b[0m\u001b[0;34m\u001b[0m\u001b[0m\n\u001b[1;32m    753\u001b[0m         )\n\u001b[0;32m--> 754\u001b[0;31m         \u001b[0;32mreturn\u001b[0m \u001b[0mself\u001b[0m\u001b[0;34m.\u001b[0m\u001b[0mfind_element\u001b[0m\u001b[0;34m(\u001b[0m\u001b[0mby\u001b[0m\u001b[0;34m=\u001b[0m\u001b[0mBy\u001b[0m\u001b[0;34m.\u001b[0m\u001b[0mCLASS_NAME\u001b[0m\u001b[0;34m,\u001b[0m \u001b[0mvalue\u001b[0m\u001b[0;34m=\u001b[0m\u001b[0mname\u001b[0m\u001b[0;34m)\u001b[0m\u001b[0;34m\u001b[0m\u001b[0;34m\u001b[0m\u001b[0m\n\u001b[0m\u001b[1;32m    755\u001b[0m \u001b[0;34m\u001b[0m\u001b[0m\n\u001b[1;32m    756\u001b[0m     \u001b[0;32mdef\u001b[0m \u001b[0mfind_elements_by_class_name\u001b[0m\u001b[0;34m(\u001b[0m\u001b[0mself\u001b[0m\u001b[0;34m,\u001b[0m \u001b[0mname\u001b[0m\u001b[0;34m)\u001b[0m \u001b[0;34m->\u001b[0m \u001b[0mWebElement\u001b[0m\u001b[0;34m:\u001b[0m\u001b[0;34m\u001b[0m\u001b[0;34m\u001b[0m\u001b[0m\n",
      "\u001b[0;32m~/.local/lib/python3.7/site-packages/selenium/webdriver/remote/webdriver.py\u001b[0m in \u001b[0;36mfind_element\u001b[0;34m(self, by, value)\u001b[0m\n\u001b[1;32m   1238\u001b[0m         return self.execute(Command.FIND_ELEMENT, {\n\u001b[1;32m   1239\u001b[0m             \u001b[0;34m'using'\u001b[0m\u001b[0;34m:\u001b[0m \u001b[0mby\u001b[0m\u001b[0;34m,\u001b[0m\u001b[0;34m\u001b[0m\u001b[0;34m\u001b[0m\u001b[0m\n\u001b[0;32m-> 1240\u001b[0;31m             'value': value})['value']\n\u001b[0m\u001b[1;32m   1241\u001b[0m \u001b[0;34m\u001b[0m\u001b[0m\n\u001b[1;32m   1242\u001b[0m     \u001b[0;32mdef\u001b[0m \u001b[0mfind_elements\u001b[0m\u001b[0;34m(\u001b[0m\u001b[0mself\u001b[0m\u001b[0;34m,\u001b[0m \u001b[0mby\u001b[0m\u001b[0;34m=\u001b[0m\u001b[0mBy\u001b[0m\u001b[0;34m.\u001b[0m\u001b[0mID\u001b[0m\u001b[0;34m,\u001b[0m \u001b[0mvalue\u001b[0m\u001b[0;34m=\u001b[0m\u001b[0;32mNone\u001b[0m\u001b[0;34m)\u001b[0m \u001b[0;34m->\u001b[0m \u001b[0mList\u001b[0m\u001b[0;34m[\u001b[0m\u001b[0mWebElement\u001b[0m\u001b[0;34m]\u001b[0m\u001b[0;34m:\u001b[0m\u001b[0;34m\u001b[0m\u001b[0;34m\u001b[0m\u001b[0m\n",
      "\u001b[0;32m~/.local/lib/python3.7/site-packages/selenium/webdriver/remote/webdriver.py\u001b[0m in \u001b[0;36mexecute\u001b[0;34m(self, driver_command, params)\u001b[0m\n\u001b[1;32m    416\u001b[0m         \u001b[0mresponse\u001b[0m \u001b[0;34m=\u001b[0m \u001b[0mself\u001b[0m\u001b[0;34m.\u001b[0m\u001b[0mcommand_executor\u001b[0m\u001b[0;34m.\u001b[0m\u001b[0mexecute\u001b[0m\u001b[0;34m(\u001b[0m\u001b[0mdriver_command\u001b[0m\u001b[0;34m,\u001b[0m \u001b[0mparams\u001b[0m\u001b[0;34m)\u001b[0m\u001b[0;34m\u001b[0m\u001b[0;34m\u001b[0m\u001b[0m\n\u001b[1;32m    417\u001b[0m         \u001b[0;32mif\u001b[0m \u001b[0mresponse\u001b[0m\u001b[0;34m:\u001b[0m\u001b[0;34m\u001b[0m\u001b[0;34m\u001b[0m\u001b[0m\n\u001b[0;32m--> 418\u001b[0;31m             \u001b[0mself\u001b[0m\u001b[0;34m.\u001b[0m\u001b[0merror_handler\u001b[0m\u001b[0;34m.\u001b[0m\u001b[0mcheck_response\u001b[0m\u001b[0;34m(\u001b[0m\u001b[0mresponse\u001b[0m\u001b[0;34m)\u001b[0m\u001b[0;34m\u001b[0m\u001b[0;34m\u001b[0m\u001b[0m\n\u001b[0m\u001b[1;32m    419\u001b[0m             response['value'] = self._unwrap_value(\n\u001b[1;32m    420\u001b[0m                 response.get('value', None))\n",
      "\u001b[0;32m~/.local/lib/python3.7/site-packages/selenium/webdriver/remote/errorhandler.py\u001b[0m in \u001b[0;36mcheck_response\u001b[0;34m(self, response)\u001b[0m\n\u001b[1;32m    241\u001b[0m                 \u001b[0malert_text\u001b[0m \u001b[0;34m=\u001b[0m \u001b[0mvalue\u001b[0m\u001b[0;34m[\u001b[0m\u001b[0;34m'alert'\u001b[0m\u001b[0;34m]\u001b[0m\u001b[0;34m.\u001b[0m\u001b[0mget\u001b[0m\u001b[0;34m(\u001b[0m\u001b[0;34m'text'\u001b[0m\u001b[0;34m)\u001b[0m\u001b[0;34m\u001b[0m\u001b[0;34m\u001b[0m\u001b[0m\n\u001b[1;32m    242\u001b[0m             \u001b[0;32mraise\u001b[0m \u001b[0mexception_class\u001b[0m\u001b[0;34m(\u001b[0m\u001b[0mmessage\u001b[0m\u001b[0;34m,\u001b[0m \u001b[0mscreen\u001b[0m\u001b[0;34m,\u001b[0m \u001b[0mstacktrace\u001b[0m\u001b[0;34m,\u001b[0m \u001b[0malert_text\u001b[0m\u001b[0;34m)\u001b[0m  \u001b[0;31m# type: ignore[call-arg]  # mypy is not smart enough here\u001b[0m\u001b[0;34m\u001b[0m\u001b[0;34m\u001b[0m\u001b[0m\n\u001b[0;32m--> 243\u001b[0;31m         \u001b[0;32mraise\u001b[0m \u001b[0mexception_class\u001b[0m\u001b[0;34m(\u001b[0m\u001b[0mmessage\u001b[0m\u001b[0;34m,\u001b[0m \u001b[0mscreen\u001b[0m\u001b[0;34m,\u001b[0m \u001b[0mstacktrace\u001b[0m\u001b[0;34m)\u001b[0m\u001b[0;34m\u001b[0m\u001b[0;34m\u001b[0m\u001b[0m\n\u001b[0m\u001b[1;32m    244\u001b[0m \u001b[0;34m\u001b[0m\u001b[0m\n\u001b[1;32m    245\u001b[0m     \u001b[0;32mdef\u001b[0m \u001b[0m_value_or_default\u001b[0m\u001b[0;34m(\u001b[0m\u001b[0mself\u001b[0m\u001b[0;34m,\u001b[0m \u001b[0mobj\u001b[0m\u001b[0;34m:\u001b[0m \u001b[0mMapping\u001b[0m\u001b[0;34m[\u001b[0m\u001b[0m_KT\u001b[0m\u001b[0;34m,\u001b[0m \u001b[0m_VT\u001b[0m\u001b[0;34m]\u001b[0m\u001b[0;34m,\u001b[0m \u001b[0mkey\u001b[0m\u001b[0;34m:\u001b[0m \u001b[0m_KT\u001b[0m\u001b[0;34m,\u001b[0m \u001b[0mdefault\u001b[0m\u001b[0;34m:\u001b[0m \u001b[0m_VT\u001b[0m\u001b[0;34m)\u001b[0m \u001b[0;34m->\u001b[0m \u001b[0m_VT\u001b[0m\u001b[0;34m:\u001b[0m\u001b[0;34m\u001b[0m\u001b[0;34m\u001b[0m\u001b[0m\n",
      "\u001b[0;31mNoSuchElementException\u001b[0m: Message: no such element: Unable to locate element: {\"method\":\"css selector\",\"selector\":\".countDown\"}\n  (Session info: chrome=95.0.4638.69)\nStacktrace:\nBacktrace:\n\tOrdinal0 [0x00BF06F3+2492147]\n\tOrdinal0 [0x00B89BD1+2071505]\n\tOrdinal0 [0x00A92478+1057912]\n\tOrdinal0 [0x00ABC964+1231204]\n\tOrdinal0 [0x00AE6B62+1403746]\n\tOrdinal0 [0x00AD57FA+1333242]\n\tOrdinal0 [0x00AE4F38+1396536]\n\tOrdinal0 [0x00AD568B+1332875]\n\tOrdinal0 [0x00AB21D4+1188308]\n\tOrdinal0 [0x00AB302F+1191983]\n\tGetHandleVerifier [0x00D767A6+1545030]\n\tGetHandleVerifier [0x00E2105C+2243580]\n\tGetHandleVerifier [0x00C7BC97+518199]\n\tGetHandleVerifier [0x00C7AD80+514336]\n\tOrdinal0 [0x00B8ED2D+2092333]\n\tOrdinal0 [0x00B92EE8+2109160]\n\tOrdinal0 [0x00B93022+2109474]\n\tOrdinal0 [0x00B9CB71+2149233]\n\tBaseThreadInitThunk [0x7638FA29+25]\n\tRtlGetAppContainerNamedObjectPath [0x77AD7A9E+286]\n\tRtlGetAppContainerNamedObjectPath [0x77AD7A6E+238]\n"
     ]
    }
   ],
   "source": [
    "\n",
    "refresh_cookie = True\n",
    "UA = 'Mozilla/5.0 (Windows NT 10.0; Win64; x64) AppleWebKit/537.36 (KHTML, like Gecko) Chrome/89.0.4389.128 Safari/537.36'\n",
    "\n",
    "session = requests.session()\n",
    "session.headers.clear()\n",
    "\n",
    "if refresh_cookie:\n",
    "    options = webdriver.ChromeOptions()\n",
    "    options.add_argument(f'user-agent={UA}')\n",
    "\n",
    "    options.add_experimental_option(\"excludeSwitches\", [\"enable-automation\"])\n",
    "    options.add_experimental_option('useAutomationExtension', False)\n",
    "\n",
    "    # 没有配置环境变量的话需要填写Chromedriver的路径：webdriver.Chrome(executable_path=\"***\")\n",
    "    driver = webdriver.Chrome('/mnt/c/Users/Willa/Downloads/chromedriver_win32/chromedriver.exe'\n",
    "                              , options=options)\n",
    "    driver.maximize_window()\n",
    "\n",
    "    # 去掉window.navigator.webdriver字段，防止被检测出是使用selenium\n",
    "    driver.execute_cdp_cmd(\"Page.addScriptToEvaluateOnNewDocument\", {\n",
    "        \"source\": \"\"\"\n",
    "        Object.defineProperty(navigator, 'webdriver', {\n",
    "          get: () => undefined\n",
    "        })\n",
    "      \"\"\"\n",
    "    })\n",
    "\n",
    "    login()\n",
    "process_cookie(refresh_cookie)\n",
    "shop_info = fetch_shoplist()\n",
    "for _ in shop_info:\n",
    "    print(_)\n",
    "\n",
    "shopid = shop_info[2]['shopid']  # 这里也可以用for来遍历，但要适当加延时\n",
    "comment_list = fetch_comment(shopid=shopid, page=1)\n",
    "# print(comment_list)\n",
    "for _ in comment_list:\n",
    "    print(_)"
   ]
  },
  {
   "cell_type": "code",
   "execution_count": 333,
   "id": "39703f11",
   "metadata": {},
   "outputs": [
    {
     "data": {
      "text/plain": [
       "'<!DOCTYPE html> <html> <head> <title>【敏华冰厅(天河城店)】电话,地址,价格,营业时间(图) - 广州美食 - 大众点评网</title> <link rel=\"icon\" type=\"image/x-icon\" href=\"//www.dpfile.com/app/pc-common/dp_favicon.a4af753914321c8e82e402e2b4be01d7.ico\"> <link rel=\"shortcut icon\" type=\"image/x-icon\" href=\"//www.dpfile.com/app/pc-common/dp_favicon.a4af753914321c8e82e402e2b4be01d7.ico\" > <link rel=\"apple-touch-icon\" href=\"//www.dpfile.com/s/res/app-touch-icon.89213f53ed66e1693e4b6aeedd355349.png\"> <link rel=\"apple-touch-icon\" sizes=\"76x76\" href=\"//www.dpfile.com/s/res/app-touch-icon-76x76.6399ce382f3e0584a6b07599cbeb3bcb.png\"> <link rel=\"apple-touch-icon\" sizes=\"120x120\" href=\"//www.dpfile.com/s/res/app-touch-icon-120x120.067844b8518f076b154dcf793a46a0a5.png\"> <link rel=\"apple-touch-icon\" sizes=\"152x152\" href=\"//www.dpfile.com/s/res/app-touch-icon-152x152.ee6d0c24fc2de0f9a62b6cc9e6720393.png\"> <link rel=\"canonical\" href=\"http://www.dianping.com/shop/l85OGfGaDg6txGPV\"/> <link rel=\"alternate\" media=\"only screen and (max-width: 640px)\" href=\"//m.dianping.com/shop/l85OGfGaDg6txGPV\" > <meta name=\"viewport\" content=\"initial-scale=1.0, maximum-scale=1.0, user-scalable=0, viewport-fit=cover\" /> <meta charset=\"UTF-8\"/> <meta http-equiv=\"X-UA-Compatible\" content=\"IE=edge\"/> <meta name=\"Keywords\" content=\"敏华冰厅(天河城店), 敏华冰厅(天河城店)点评, 敏华冰厅(天河城店)团购\"/> <meta name=\"Description\" content=\"为您提供敏华冰厅(天河城店)的人均消费、品牌简介、店铺图片、折扣优惠、用户口碑、美食攻略、菜单、订餐、预约订座、推荐菜等信息，敏华冰厅(天河城店)好不好，天河区茶餐厅选择敏华冰厅(天河城店)怎么样？快来看看大家如何点评吧！\"/> <meta name=\"location\" content=\"province=广东;city=广州;\"> <meta itemprop=\"name\" content=\"敏华冰厅\"> <meta itemprop=\"description\" content=\"敏华冰厅\"> <meta itemprop=\"image\" content=\"http://p0.meituan.net/biztone/194378481_1619669839413.jpeg%40300w_225h_1e_1c_1l%7Cwatermark%3D1%26%26r%3D1%26p%3D9%26x%3D2%26y%3D2%26relative%3D1%26o%3D20\"> <meta name=\"robots\" content=\"noarchive\"> <meta content=\"no-transform\" http-equiv=\"Cache-Control\"/> <meta content=\"no-siteapp\" http-equiv=\"Cache-Control\"/> <meta http-equiv=\"mobile-agent\" content=\"format=html5; url=http://m.dianping.com/shop/l85OGfGaDg6txGPV\"> <script> document.documentElement.className = location.hash ? \\'J_H\\' : \\'\\'; var G_rtop = +new Date, _gaq = [ [\\'_setAccount\\', \\'UA-464026-1\\'], [\\'_addOrganic\\', \\'soso\\', \\'w\\'], [\\'_addOrganic\\', \\'sogou\\', \\'query\\'], [\\'_addOrganic\\', \\'yodao\\', \\'q\\'], [\\'_addOrganic\\', \\'bing\\', \\'q\\'], [\\'_addOrganic\\', \\'360\\', \\'q\\'], [\\'_addOrganic\\', \\'gougou\\', \\'search\\'], [\\'_setDomainName\\', \\'\\'] , [\\'_setAllowHash\\', false] ], dpga = function (key) { _gaq.push([\\'_trackPageview\\', key || \\'\\']) }, pageTracker = {_trackPageview: dpga}, _hip = [ [\\'_setPageId\\', 12], [\\'_setCityId\\', ], [\\'_setShopType\\', ], [\\'_setPVInitData\\', {p_render:+(new Date)-G_rtop}] ]; </script> <link rel=\"stylesheet\" type=\"text/css\" href=\"//www.dpfile.com/app/pc-common/index.min.1b782a80b8abe41a0307fdd6b470542a.css\"> <script type=\"text/javascript\" src=\"//www.dpfile.com/app/pc-common/index.min.4d7ee8f4d8fadf18a5232634304c8edf.js\"></script> <script type=\"text/javascript\"> window._DP_HeaderData = { \\'cityId\\': \\'4\\', \\'cityChName\\': \\'广州\\', \\'cityEnName\\': \\'guangzhou\\', \\'pageType\\': \\'channel\\', \\'userId\\': \\'877169640\\', \\'userName\\':\\'帅菠儿全球粉丝后援会\\', \\'channelId\\': \\'10\\', } </script> <link rel=\"stylesheet\" type=\"text/css\" href=\"//s3plus.meituan.net/v1/mss_0a06a471f9514fc79c981b5466f56b91/svgtextcss/9bd7e4cef8e73364a3f5b3184f805d66.css\"> <link rel=\"stylesheet\" href=\"//www.dpfile.com/app/app-pc-main/static/main-shop.min.639818b259a07012e6bae15460111569.css\" type=\"text/css\" /> <meta name=\"lx:category\" content=\"dianping_nova\"> <meta name=\"lx:appnm\" content=\"dp_pc\"> <meta name=\"lx:cid\" content=\"dp12\"> <meta name=\"lx:autopv\" content=\"off\"/> <link rel=\"dns-prefetch\" href=\"//analytics.meituan.net\"/> <link rel=\"dns-prefetch\" href=\"//wreport.meituan.net\"/> <link rel=\"dns-prefetch\" href=\"//report.meituan.net\"/> <script type=\"text/javascript\"> !(function (win, doc, ns) { var cacheFunName = \\'_MeiTuanALogObject\\'; win[cacheFunName] = ns; if (!win[ns]) { var _LX = function () { _LX.q.push(arguments); return _LX; }; _LX.q = _LX.q || []; _LX.l = +new Date(); win[ns] = _LX; } })(window, document, \\'LXAnalytics\\'); ;(function () { var environment = { cityid: \\'4\\' }; var valLab = { cat0_id: \\'10\\', cat1_id: \\'207\\', poi_id: \\'l85OGfGaDg6txGPV\\', shopuuid: \\'l85OGfGaDg6txGPV\\' }; var cid = \\'dp12\\'; var _LXAnalytics = window.LXAnalytics; LXAnalytics = function LXAnalytics() { var METHOD = {PV: \\'pageView\\',MC: \\'moduleClick\\',MV: \\'moduleView\\'}; try { var checkUuid = function checkUuid(valLab) { var _valLab = valLab; var custom = _valLab&&_valLab.custom; var poi_id = _valLab && (_valLab.shopid || _valLab.shopId || _valLab.poi_id); if (poi_id) _valLab = Object.assign({}, valLab, {shopuuid: poi_id}); if (custom) _valLab.custom = checkUuid(custom); return _valLab || null; }; var args = Array.prototype.slice.call(arguments); var method = args[0]; var valLab = args[1]; var environment = args[2]; var cid = args[3]; if (method === METHOD.PV) { var _valLab = checkUuid(valLab); var _environment = environment || null; _LXAnalytics(method, _valLab, _environment, cid); } else if (method === METHOD.MC || method === METHOD.MV) { var _valBid = valLab; var _valLab2 = environment?checkUuid(environment):null; var options = cid || {}; _LXAnalytics(method, _valBid, _valLab2, options); } else { _LXAnalytics.apply(null, args); } } catch (e) { console.log(\\'LXAnalytics hooks error\\', e); } }; Object.keys(_LXAnalytics).forEach(function (key) { LXAnalytics[key] = _LXAnalytics[key]; }); LXAnalytics(\\'pageView\\', valLab, environment, cid); })(); </script> <script src=\"//analytics.meituan.net/analytics.js\" type=\"text/javascript\" charset=\"utf-8\"></script> <script type=\"text/javascript\">(function(){var c=\"www.dianping.com\"===window.location.host||\"w.51ping.com\"===window.location.host,f=\"m.dianping.com\"===window.location.host||\"m.51ping.com\"===window.location.host,a=\"iPhone;Android;Windows Phone;SymbianOS;iPad;iPod\".split(\";\"),g=window.location.pathname,b=window.location.search,h=window.screen.width,e=-1!==location.href.indexOf(\"51ping\")?\"test\":\"prod\",k=\"test\"===e?\"//w.51ping.com\":\"//www.dianping.com\";e=\"test\"===e?\"//m.51ping.com\":\"//m.dianping.com\";var d=!1;if(c){for(c=0;c<a.length;c++)if(d= a[c],-1!=navigator.userAgent.indexOf(d)&&640>=h){d=!0;break}else d=!1;d&&(a=\"source=pc_jump\",b=b?b+\"&\"+a:b+\"?\"+a,a=setTimeout,location.href=e+(g+b),a(void 0,500))}f&&640<h&&(a=\"source=m_jump\",f=setTimeout,location.href=k+(g+(b?b+\"&\"+a:b+\"?\"+a)),f(void 0,500))})();</script> <script> var rohrdata = \"\"; var Rohr_Opt = new Object; Rohr_Opt.Flag = 100041; Rohr_Opt.LogVal = \"rohrdata\"; </script> <script src=\"//www.dpfile.com/app/rohr/rohr.min.js\"></script> <script type=\"text/javascript\"> \"use strict\";!function(){var a=arguments.length>0&&void 0!==arguments[0]?arguments[0]:\"_Owl_\",i=window,t={page:!0,resource:!0,js:!0};i[a]||(i[a]={isRunning:!1,isReady:!1,preTasks:[],config:t,dataSet:[],use:function(a,t){this.isReady&&i.Owl&&i.Owl[a](t),this.preTasks.push({api:a,data:[t]})},add:function(a){this.dataSet.push(a)},run:function(a){var t=this;if(!this.isRunning){this.isRunning=!0;var e=a||this.config;if(!1!==e.js){var n=i.onerror;i.onerror=function(){this.isReady||this.add({type:\"jsError\",data:arguments}),n&&n.apply(i,arguments)}.bind(this)}var r=i.addEventListener||i.attachEvent;!1!==e.page&&r(\"load\",function(){if(!t.isReady){var a=i.performance&&i.performance.timing;t.add({type:\"pageTime\",data:[a]})}}),!1!==e.resource&&(r(\"error\",function(a){t.isReady||t.add({type:\"resError\",data:[a]})},!0),r(\"load\",function(a){t.isReady||t.add({type:\"resTime\",data:[a]})}))}}})}(); _Owl_.run({ page: true, js: true, resource: true }) </script> </head> <body id=\"top\"> <div class=\"header-container\"> <div id=\"top-nav\" class=\"top-nav\"> <div class=\"top-nav-container clearfix\"> <div class=\"group J-city-select\"> <!--城市选择--> <a target=\"_blank\" class=\"city J-city\"><span class=\"map-icon\"></span><span class=\"J-current-city\">广州</span><span class=\"J-city-change\">[更换]</span></a> <div class=\"city-list J-city-list Hide\"> <div class=\"group clearfix\"> <h3 class=\"title\">国内城市</h3> <div> <a href=\"//www.dianping.com/shanghai\" class=\"city-item\">上海</a> <a href=\"//www.dianping.com/beijing\" class=\"city-item\">北京</a> <a href=\"//www.dianping.com/guangzhou\" class=\"city-item\">广州</a> <a href=\"//www.dianping.com/shenzhen\" class=\"city-item\">深圳</a> <a href=\"//www.dianping.com/tianjin\" class=\"city-item\">天津</a> <a href=\"//www.dianping.com/hangzhou\" class=\"city-item\">杭州</a> <a href=\"//www.dianping.com/nanjing\" class=\"city-item\">南京</a> <a href=\"//www.dianping.com/suzhou\" class=\"city-item\">苏州</a> <a href=\"//www.dianping.com/chengdu\" class=\"city-item\">成都</a> <a href=\"//www.dianping.com/wuhan\" class=\"city-item\">武汉</a> <a href=\"//www.dianping.com/chongqing\" class=\"city-item\">重庆</a> <a href=\"//www.dianping.com/xian\" class=\"city-item\">西安</a> </div> </div> <div class=\"group clearfix\"> <h3 class=\"title\">国外城市</h3> <div> <a href=\"//www.dianping.com/tokyo\" class=\"city-item\">东京</a> <a href=\"//www.dianping.com/seoul\" class=\"city-item\">首尔</a> <a href=\"//www.dianping.com/bangkok\" class=\"city-item\">曼谷</a> <a href=\"//www.dianping.com/paris\" class=\"city-item\">巴黎</a> </div> </div> <a class=\"all\" href=\"//www.dianping.com/citylist\">更多城市 &gt;</a> </div> </div> <div class=\"group quick-menu \"> <span class=\"login-container J-login-container\"> <a rel=\"nofollow\" class=\"item \" href=\"http://account.dianping.com/login\" data-click-name=\"login\">你好，请登录</a> <a rel=\"nofollow\" class=\"item login\" href=\"https://account.dianping.com/reg\" data-click-name=\"reg\">免费注册</a> </span> <span class=\"seprate\">|</span> <a rel=\"nofollow\" href=\"https://www.dianping.com/member/myinfo\" class=\"item J-my-center-trigger\">个人中心<i class=\"icon i-arrow\"></i></a> <span class=\"seprate\">|</span> <a target=\"_blank\" class=\"item J-shop-serve-trigger\">商户服务<i class=\"icon i-arrow\"></i></a> <span class=\"seprate\">|</span> <a target=\"_blank\" class=\"item J-help-trigger\">帮助中心<i class=\"icon i-arrow\"></i></a> </div> <div class=\"panel my-center J-my-center-target Hide\"> </div> <div class=\"panel my-center J-shop-serve-target Hide\"> <a rel=\"nofollow\" target=\"_blank\" href=\"https://e.dianping.com/\" data-click-name=\"shop-center\">商户中心</a> <a rel=\"nofollow\" target=\"_blank\" href=\"https://e.dianping.com/claimcpc/page/index?source=dp\" data-click-name=\"shop-coop\">商户合作</a> <a rel=\"nofollow\" target=\"_blank\" href=\"https://daili.meituan.com/?comeFrom=dpwebMenu\" data-click-name=\"daili\">招募餐饮代理</a> <a rel=\"nofollow\" target=\"_blank\" href=\"https://daili.meituan.com/dz-zhaoshang\" data-click-name=\"apollo\">招募非餐饮代理</a> <a rel=\"nofollow\" target=\"_blank\" href=\"http://b.meituan.com/canyin/PC\">餐饮商户中心</a> </div> <div class=\"panel my-center J-help-target Hide\"> <a rel=\"nofollow\" target=\"_blank\" href=\"https://rules-center.meituan.com?from=dianpingPC\" data-click-name=\"useragreement\">平台规则</a> <a rel=\"nofollow\" target=\"_blank\" href=\"http://kf.dianping.com\" data-click-name=\"kf\">联系客服</a> </div> </div> </div> <div id=\"logo-input\" class=\"logo-input food-conf\"> <div class=\"logo-input-container clearfix\"> <a title=\"大众点评网\" href=\"/\" class=\"logo logo-food\"></a> <div class=\"search-box\"> <div class=\"search-bar \"> <span class=\"search-container clearfix\"> <i class=\"i-search\"></i> <span> <input id=\"J-search-input\" class=\"J-search-input\" x-webkit-speech=\"\" x-webkit-grammar=\"builtin:translate\" data-s-pattern=\"https://www.dianping.com/search/keyword/{0}/{1}_\" data-s-epattern=\"https://www.dianping.com/guangzhou/{0}\" data-s-cateid=\"0\" data-s-cityid=\"1\" type=\"text\" placeholder=\"搜索商户名、地址、菜名、外卖等\" autocomplete=\"off\" /> </span> <span class=\"search-bnt-panel\"> <a target=\"_blank\" class=\"search-btn search-channel-bnt J-search-btn\" id=\"J-channel-bnt\" data-s-chanid=\"10\">频道搜索</a> <a target=\"_blank\" class=\"search-btn search-all-bnt J-search-btn platform-btn\" id=\"J-all-btn\" data-s-chanid=\"0\">全站搜索</a> </span> </span> <p class=\"hot-search J-hot-search\"> </p> </div> </div> </div> </div> <div id=\"cate-channel\" class=\"cate-container channel-cate-container food-conf\"> <div class=\"nav-header\"> <div class=\"navbar\"> <span class=\"cate-item all-cate J-all-cate\">全部美食分类 <i class=\"primary-more\"></i> </span> </div> </div> <div class=\"gradient\"></div> <div id=\"cate-index\" class=\"cate-index\"> <div class=\"navwrap\"> <div id=\"nav\" > <div class=\"cate-nav J-cate-nav Hidden\"> <ul class=\"first-cate J-primary-menu\"> <li class=\"first-item\"> <div class=\"primary-container\"> <span class=\"span-container\"> <a target=\"_blank\" class=\"index-title\">异国料理</a> <a target=\"_blank\" class=\"index-item\" href=\"http://www.dianping.com/guangzhou/ch10/g116\" data-category=\"food.excticfood\" data-click-title=\"second\" data-click-name=\"g116\"><span>西餐</span></a> <a target=\"_blank\" class=\"index-item\" href=\"http://www.dianping.com/guangzhou/ch10/g113\" data-category=\"food.excticfood\" data-click-title=\"second\" data-click-name=\"g113\"><span>日本菜</span></a> </span> </div> <div class=\"sec-cate Hide\" data-category=\"cate.food.excticfood\" > <div class=\"groups\"> <div class=\"group\"> <div class=\"sec-title\"> <span class=\"channel-title\" href=\"\">异国料理</span> </div> <div class=\"sec-items\"> <a target=\"_blank\" class=\"second-item\" href=\"http://www.dianping.com/guangzhou/ch10/g116\" data-category=\"food.excticfood\" data-click-name=\"g116\">西餐</a> <a target=\"_blank\" class=\"second-item\" href=\"http://www.dianping.com/guangzhou/ch10/g113\" data-category=\"food.excticfood\" data-click-name=\"g113\">日本菜</a> <a target=\"_blank\" class=\"second-item\" href=\"http://www.dianping.com/guangzhou/ch10/g114\" data-category=\"food.excticfood\" data-click-name=\"g114\">韩国料理</a> <a target=\"_blank\" class=\"second-item\" href=\"http://www.dianping.com/guangzhou/ch10/g115\" data-category=\"food.excticfood\" data-click-name=\"g115\">东南亚菜</a> <a target=\"_blank\" class=\"second-item\" href=\"http://www.dianping.com/guangzhou/ch10/g111\" data-category=\"food.excticfood\" data-click-name=\"g111\">自助餐</a> </div> </div> </div> </div> </li> <li class=\"first-item\"> <div class=\"primary-container\"> <span class=\"span-container\"> <a target=\"_blank\" class=\"index-title\">中式料理</a> <a target=\"_blank\" class=\"index-item\" href=\"http://www.dianping.com/guangzhou/ch10/g110\" data-category=\"food.chinesefood\" data-click-title=\"second\" data-click-name=\"g110\"><span>火锅</span></a> <a target=\"_blank\" class=\"index-item\" href=\"http://www.dianping.com/guangzhou/ch10/g101\" data-category=\"food.chinesefood\" data-click-title=\"second\" data-click-name=\"g101\"><span>本帮江浙菜</span></a> </span> </div> <div class=\"sec-cate Hide\" data-category=\"cate.food.chinesefood\" > <div class=\"groups\"> <div class=\"group\"> <div class=\"sec-title\"> <span class=\"channel-title\" href=\"\">中式料理</span> </div> <div class=\"sec-items\"> <a target=\"_blank\" class=\"second-item\" href=\"http://www.dianping.com/guangzhou/ch10/g110\" data-category=\"food.chinesefood\" data-click-name=\"g110\">火锅</a> <a target=\"_blank\" class=\"second-item\" href=\"http://www.dianping.com/guangzhou/ch10/g101\" data-category=\"food.chinesefood\" data-click-name=\"g101\">本帮江浙菜</a> <a target=\"_blank\" class=\"second-item\" href=\"http://www.dianping.com/guangzhou/ch10/g102\" data-category=\"food.chinesefood\" data-click-name=\"g102\">川菜</a> <a target=\"_blank\" class=\"second-item\" href=\"http://www.dianping.com/guangzhou/ch10/g103\" data-category=\"food.chinesefood\" data-click-name=\"g103\">粤菜</a> <a target=\"_blank\" class=\"second-item\" href=\"http://www.dianping.com/guangzhou/ch10/g104\" data-category=\"food.chinesefood\" data-click-name=\"g104\">湘菜</a> <a target=\"_blank\" class=\"second-item\" href=\"http://www.dianping.com/guangzhou/ch10/g3243\" data-category=\"food.chinesefood\" data-click-name=\"g3243\">新疆菜</a> <a target=\"_blank\" class=\"second-item\" href=\"http://www.dianping.com/guangzhou/ch10/g248\" data-category=\"food.chinesefood\" data-click-name=\"g248\">云南菜</a> <a target=\"_blank\" class=\"second-item\" href=\"http://www.dianping.com/guangzhou/ch10/g106\" data-category=\"food.chinesefood\" data-click-name=\"g106\">东北菜</a> <a target=\"_blank\" class=\"second-item\" href=\"http://www.dianping.com/guangzhou/ch10/g105\" data-category=\"food.chinesefood\" data-click-name=\"g105\">贵州菜</a> <a target=\"_blank\" class=\"second-item\" href=\"http://www.dianping.com/guangzhou/ch10/g26481\" data-category=\"food.chinesefood\" data-click-name=\"g26481\">西北菜</a> <a target=\"_blank\" class=\"second-item\" href=\"http://www.dianping.com/guangzhou/ch10/g107\" data-category=\"food.chinesefood\" data-click-name=\"g107\">台湾菜</a> <a target=\"_blank\" class=\"second-item\" href=\"http://www.dianping.com/guangzhou/ch10/g247\" data-category=\"food.chinesefood\" data-click-name=\"g247\">江西菜</a> </div> </div> </div> </div> </li> <li class=\"first-item\"> <div class=\"primary-container\"> <span class=\"span-container\"> <a target=\"_blank\" class=\"index-title\">小吃夜宵</a> <a target=\"_blank\" class=\"index-item\" href=\"http://www.dianping.com/guangzhou/ch10/g508\" data-category=\"food.snack\" data-click-title=\"second\" data-click-name=\"g508\"><span>烧烤</span></a> <a target=\"_blank\" class=\"index-item\" href=\"http://www.dianping.com/guangzhou/ch10/g251\" data-category=\"food.snack\" data-click-title=\"second\" data-click-name=\"g251\"><span>海鲜</span></a> </span> </div> <div class=\"sec-cate Hide\" data-category=\"cate.food.snack\" > <div class=\"groups\"> <div class=\"group\"> <div class=\"sec-title\"> <span class=\"channel-title\" href=\"\">小吃夜宵</span> </div> <div class=\"sec-items\"> <a target=\"_blank\" class=\"second-item\" href=\"http://www.dianping.com/guangzhou/ch10/g508\" data-category=\"food.snack\" data-click-name=\"g508\">烧烤</a> <a target=\"_blank\" class=\"second-item\" href=\"http://www.dianping.com/guangzhou/ch10/g251\" data-category=\"food.snack\" data-click-name=\"g251\">海鲜</a> <a target=\"_blank\" class=\"second-item\" href=\"http://www.dianping.com/guangzhou/ch10/g219\" data-category=\"food.snack\" data-click-name=\"g219\">小龙虾</a> <a target=\"_blank\" class=\"second-item\" href=\"http://www.dianping.com/guangzhou/ch10/g203\" data-category=\"food.snack\" data-click-name=\"g203\">蟹宴</a> <a target=\"_blank\" class=\"second-item\" href=\"http://www.dianping.com/guangzhou/ch10/g112\" data-category=\"food.snack\" data-click-name=\"g112\">小吃快餐</a> </div> </div> </div> </div> </li> <li class=\"first-item\"> <div class=\"primary-container\"> <span class=\"span-container\"> <a target=\"_blank\" class=\"index-title\">饮品甜点</a> <a target=\"_blank\" class=\"index-item\" href=\"http://www.dianping.com/guangzhou/ch10/g132\" data-category=\"food.dessert\" data-click-title=\"second\" data-click-name=\"g132\"><span>咖啡厅</span></a> <a target=\"_blank\" class=\"index-item\" href=\"http://www.dianping.com/guangzhou/ch10/g117\" data-category=\"food.dessert\" data-click-title=\"second\" data-click-name=\"g117\"><span>面包甜点</span></a> </span> </div> <div class=\"sec-cate Hide\" data-category=\"cate.food.dessert\" > <div class=\"groups\"> <div class=\"group\"> <div class=\"sec-title\"> <span class=\"channel-title\" href=\"\">饮品甜点</span> </div> <div class=\"sec-items\"> <a target=\"_blank\" class=\"second-item\" href=\"http://www.dianping.com/guangzhou/ch10/g132\" data-category=\"food.dessert\" data-click-name=\"g132\">咖啡厅</a> <a target=\"_blank\" class=\"second-item\" href=\"http://www.dianping.com/guangzhou/ch10/g117\" data-category=\"food.dessert\" data-click-name=\"g117\">面包甜点</a> <a target=\"_blank\" class=\"second-item\" href=\"http://www.dianping.com/guangzhou/ch10/g34014\" data-category=\"food.dessert\" data-click-name=\"g34014\">下午茶</a> <a target=\"_blank\" class=\"second-item\" href=\"http://www.dianping.com/guangzhou/ch10/g34015\" data-category=\"food.dessert\" data-click-name=\"g34015\">Brunch</a> </div> </div> </div> </div> </li> <li class=\"first-item\"> <div class=\"primary-container\"> <span class=\"span-container\"> <a target=\"_blank\" class=\"index-title\">其他</a> <a target=\"_blank\" class=\"index-item\" href=\"http://www.dianping.com/guangzhou/ch10/g109\" data-category=\"food.others\" data-click-title=\"second\" data-click-name=\"g109\"><span>素菜</span></a> <a target=\"_blank\" class=\"index-item\" href=\"http://www.dianping.com/guangzhou/ch10/g215\" data-category=\"food.others\" data-click-title=\"second\" data-click-name=\"g215\"><span>面馆</span></a> </span> </div> <div class=\"sec-cate Hide\" data-category=\"cate.food.others\" > <div class=\"groups\"> <div class=\"group\"> <div class=\"sec-title\"> <span class=\"channel-title\" href=\"\">其他</span> </div> <div class=\"sec-items\"> <a target=\"_blank\" class=\"second-item\" href=\"http://www.dianping.com/guangzhou/ch10/g109\" data-category=\"food.others\" data-click-name=\"g109\">素菜</a> <a target=\"_blank\" class=\"second-item\" href=\"http://www.dianping.com/guangzhou/ch10/g215\" data-category=\"food.others\" data-click-name=\"g215\">面馆</a> <a target=\"_blank\" class=\"second-item\" href=\"http://www.dianping.com/guangzhou/ch10/g1783\" data-category=\"food.others\" data-click-name=\"g1783\">家常菜</a> <a target=\"_blank\" class=\"second-item\" href=\"http://www.dianping.com/guangzhou/ch10/g118\" data-category=\"food.others\" data-click-name=\"g118\">其他</a> </div> </div> </div> </div> </li> </ul> </div> </div> </div> </div> </div> </div> <div id=\"body\" class=\"body shop-body\"> <div class=\"body-content clearfix\"> <div class=\"breadcrumb\"> <a href=\"//www.dianping.com/guangzhou/ch10\" itemprop=\"url\"> 广州美食 </a> &gt; <a href=\"//www.dianping.com/guangzhou/ch10/g207\" itemprop=\"url\"> 茶餐厅 </a> &gt; <a href=\"//www.dianping.com/guangzhou/ch10/r22\" itemprop=\"url\"> 天河区 </a> &gt; <a href=\"//www.dianping.com/guangzhou/ch10/r1519\" itemprop=\"url\"> 天河城/体育中心 </a> &gt; <span>敏华冰厅(天河城店)</span> </div> <div class=\"main\"> <div id=\"basic-info\" class=\"basic-info default nug_shop_ab_pv-a\"> <s class=\"cover J_cover\"></s> <h1 class=\"shop-name\"> 敏<e class=\"address\">&#xe5d6;</e>冰<e class=\"address\">&#xf4e0;</e>(<e class=\"address\">&#xe9d7;</e><e class=\"address\">&#xeb30;</e><e class=\"address\">&#xe3ff;</e><e class=\"address\">&#xf7b2;</e>) <a class=\"qr-contrainer\" href=\"//www.dianping.com/events/m/index.htm\" data-click-name=\"手机买单\" rel=\"nofollow\" onclick=\"_hip.push([\\'mv\\', { module: \\'shopinfo_hoverQR\\', action: \\'click\\'}])\"> <div class=\"phone-qr\"> <span class=\"arrow\"></span> 手机扫码&nbsp;优惠买单 </div> <div class=\"qr-code\"> <div id=\"qrcode\" class=\"code\"> <div class=\"code-img\"></div> </div> </div> </a> </h1> <div class=\"brief-info\"> <span title=\"45\" class=\"mid-rank-stars mid-str45\"></span> <span id=\"reviewCount\" class=\"item\"> 1<d class=\"num\">&#xf128;</d><d class=\"num\">&#xe7c3;</d><d class=\"num\">&#xe7c3;</d><d class=\"num\">&#xe174;</d> 条评价 </span> <div class=\"star-from-desc J-star-from-desc Hide\">星级来自业内综合评估<i class=\"icon\"></i></div> <span id=\"avgPriceTitle\" class=\"item\">人均: <d class=\"num\">&#xf639;</d><d class=\"num\">&#xe364;</d> 元</span> <span id=\"comment_score\"> <span class=\"item\">口味: <d class=\"num\">&#xe174;</d>.<d class=\"num\">&#xf440;</d> </span> <span class=\"item\">环境: <d class=\"num\">&#xe174;</d>.<d class=\"num\">&#xe174;</d> </span> <span class=\"item\">服务: <d class=\"num\">&#xe174;</d>.<d class=\"num\">&#xf440;</d> </span> </span> </div> <div class=\"expand-info address\" itemprop=\"street-address\"> <span class=\"info-name\">地址：</span> <div id=\"J_map-show\" class=\"map_address\" > <span class=\"item\" itemprop=\"street-address\" id=\"address\"> <e class=\"address\">&#xe9d7;</e><e class=\"address\">&#xeb30;</e><e class=\"address\">&#xe812;</e><d class=\"num\">&#xe9e5;</d><d class=\"num\">&#xefb0;</d><d class=\"num\">&#xe174;</d><e class=\"address\">&#xf199;</e><e class=\"address\">&#xe9d7;</e><e class=\"address\">&#xeb30;</e><e class=\"address\">&#xe3ff;</e><d class=\"num\">&#xf639;</d><e class=\"address\">&#xe619;</e><d class=\"num\">&#xf639;</d><d class=\"num\">&#xefb0;</d><d class=\"num\">&#xe7c3;</d><e class=\"address\">&#xf199;</e>（<e class=\"address\">&#xebeb;</e><e class=\"address\">&#xf7fe;</e><e class=\"address\">&#xf39e;</e><e class=\"address\">&#xe812;</e>C<e class=\"address\">&#xf058;</e><e class=\"address\">&#xf651;</e>） </span> <div class=\"addressIcon\"></div> </div> </div> <p class=\"expand-info tel\"> <span class=\"info-name\">电话：</span> <d class=\"num\">&#xefb0;</d><d class=\"num\">&#xe9e5;</d><d class=\"num\">&#xefb0;</d>-<d class=\"num\">&#xe174;</d><d class=\"num\">&#xe838;</d><d class=\"num\">&#xf639;</d><d class=\"num\">&#xe9e5;</d><d class=\"num\">&#xf128;</d><d class=\"num\">&#xefb0;</d><d class=\"num\">&#xe7c3;</d><d class=\"num\">&#xe9e5;</d> </p> <div class=\"promosearch-wrapper\"></div> <a class=\"J-unfold unfold\" data-click-name=\"更多信息\">更多信息<i class=\"icon\"></i></a> <div class=\"other J-other Hide\"> <p class=\"info info-indent\"> <span class=\"info-name\">营业时间：</span> <span class=\"item\"> <svgmtsi class=\"shopdesc\">&#xf329;</svgmtsi><svgmtsi class=\"shopdesc\">&#xe8f0;</svgmtsi>至<svgmtsi class=\"shopdesc\">&#xf329;</svgmtsi><svgmtsi class=\"shopdesc\">&#xe941;</svgmtsi>,<svgmtsi class=\"shopdesc\">&#xf329;</svgmtsi><svgmtsi class=\"shopdesc\">&#xe7f4;</svgmtsi> 1<svgmtsi class=\"hours\">&#xe653;</svgmtsi>:<svgmtsi class=\"hours\">&#xe653;</svgmtsi><svgmtsi class=\"hours\">&#xe653;</svgmtsi>-<svgmtsi class=\"hours\">&#xf3ca;</svgmtsi>1:<svgmtsi class=\"hours\">&#xe653;</svgmtsi><svgmtsi class=\"hours\">&#xe653;</svgmtsi> <svgmtsi class=\"shopdesc\">&#xf329;</svgmtsi><svgmtsi class=\"shopdesc\">&#xe50c;</svgmtsi>,<svgmtsi class=\"shopdesc\">&#xf329;</svgmtsi><svgmtsi class=\"shopdesc\">&#xf7f9;</svgmtsi> 1<svgmtsi class=\"hours\">&#xe653;</svgmtsi>:<svgmtsi class=\"hours\">&#xe653;</svgmtsi><svgmtsi class=\"hours\">&#xe653;</svgmtsi>-<svgmtsi class=\"hours\">&#xf3ca;</svgmtsi>1:<svgmtsi class=\"hours\">&#xf1b5;</svgmtsi><svgmtsi class=\"hours\">&#xe653;</svgmtsi> </span> <a class=\"item-gray\" href=\"//www.dianping.com/shop/l85OGfGaDg6txGPV/edit\" target=\"_blank\" rel=\"nofollow\" data-click-name=\"修改/添加营业时间\"> 修改 </a> </p> <div id=\"license-wrappper\"></div> <p class=\"info J-feature Hide\"></p> <p id=\"park\" class=\"info info-indent J-park Hide\"></p> <div id=\"tips-wrapper\"></div> </div> <div class=\"action\"> <a class=\"write left-action\" href=\"//www.dianping.com/shop/l85OGfGaDg6txGPV/review\" target=\"_blank\" rel=\"nofollow\" data-click-name=\"写评价\"> <i class=\"icon\"></i><span id=\"dpReviewBtn\" >写评价</span></a> <div id=\"booking-wrapper\" data-click-name=\"订座\"></div> <span class=\"right-action\"> <a class=\"share J-weixin\" rel=\"nofollow\" title=\"微信分享\" data-click-name=\"微信分享\"><i class=\"icon\"></i></a> <a id=\"fav\" class=\"favorite J-favorite\" rel=\"nofollow\" title=\"收藏\" data-click-name=\"收藏\"><i class=\"icon\"></i></a> <a class=\"report\" title=\"报错\" href=\"/shop/l85OGfGaDg6txGPV/edit\" rel=\"nofollow\" target=\"_blank\" data-click-name=\"报错\"><i class=\"icon\"></i></a> <a class=\"action-more J-action-more\" ><i class=\"icon\"></i></a> <div class=\"shop-action-more-list J-action-more-list Hide\"> <a href=\"/upload/shop/l85OGfGaDg6txGPV\" rel=\"nofollow\" target=\"_blank\" data-click-name=\"添加图片\">添加图片</a> <i class=\"arrow\"></i> </div> </span> </div> <div id=\"tuiguangAd-wrapper\"> </div> </div> <div id=\"shop-branchs\" class=\"shop-branchs Hide\" rel=\"nofollow\"> <a class=\"add-shop\" rel=\"nofollow\"><i class=\"icon\"></i></a> <a class=\"more-shop\" target=\"_blank\" href=\"//www.dianping.com/brands/bl85OGfGaDg6txGPV\" data-click-name=\"查看全部分店\">查看全部0家分店</a> </div> <div id=\"shop-score\" class=\"shop-score Hide\"> </div> <div id=\"shop-hours\" class=\"shop-hours Hide\"> <h3 class=\"title\">修改时间</h3> <textarea></textarea> <p class=\"action\"> <a class=\"J-cancel\">取消</a> <a class=\"btn J-confirm\">保存修改</a> </p> </div> <div id=\"stop-info\" class=\"stop-info J-park-more Hide\"> </div> <div id=\"promoinfo-wrapper\"></div> <div id=\"joybooking-wrapper\"></div> <div id=\"shoptabs-wrapper\"></div> <div id=\"myreview-wrapper\"></div> <div id=\"friends-comment\" class=\"mod comment friends-comment\"> <div id=\"friends-comment-head\"></div> <ul class=\"comment-list J-list\" id=\"friend-reviewlist-wrapper\"></ul> <div id=\"friends-comment-tail\"></div> <div id=\"qqfriends-comment-head\"></div> <div class=\"qq-friends\" id=\"qq-friends-wrapper\"> <h3 class=\"names\" id=\"qq-friends-names\"></h3> <div class=\"avatars clearfix\" id=\"qq-friends-avatars\"></div> </div> </div> <div id=\"comment\" class=\"mod comment\" data-render=\"1\"> <h2 class=\"mod-title J-tab\" id=\"defaultcomment-wrapper\"></h2> <div id=\"summaryfilter-wrapper\"></div> <div id=\"attributefilter-wrapper\"></div> <ul class=\"comment-list J-list\" id=\"reviewlist-wrapper\"></ul> <div id=\"morelink-wrapper\"></div> </div> <div id=\"addreview-wrapper\"></div> <div id=\"relatedeal-wrapper\"></div> <div class=\"mod shop-owner\"> <h2 class=\"mod-title\"> <a class=\"item current\">App专享优惠</a> </h2> </div> <div id =\"J-shop-links\" class=\"nav-tabs\"> <p class=\"description\"> <span>大众点评</span><span>广州</span><span>茶餐厅</span><span>频道为您提供</span><span>敏华冰厅(天河城店)</span><span>地址，电话，最新菜单等最新商户信息，找</span><span>广州</span><span>美食，就上大众点评。</span> </p> <div class=\"bottom-links-container\"> <div class=\"tabs\"> <a class=\"cur\" data-click-name=\"热门商圈推荐\" data-click-title=\"页尾导航\"><span class=\"tit\">热门商圈推荐</span></a> <a class=\"\" data-click-name=\"热门茶餐厅推荐\" data-click-title=\"页尾导航\"><span class=\"tit\">热门茶餐厅推荐</span></a> <a class=\"\" data-click-name=\"推荐导航\" data-click-title=\"页尾导航\"><span class=\"tit\">推荐导航</span></a> </div> <div class=\"con\"> <div class=\"nc-items\"> <a href=\"//www.dianping.com/guangzhou/ch10/g207r1519\" itemprop=\"url\" data-click-name=\"天河城/体育中心茶餐厅\" data-click-title=\"页尾导航\"> 天河城/体育中心茶餐厅 </a> <a href=\"//www.dianping.com/guangzhou/ch10/g207r1522\" itemprop=\"url\" data-click-name=\"珠江新城茶餐厅\" data-click-title=\"页尾导航\"> 珠江新城茶餐厅 </a> <a href=\"//www.dianping.com/guangzhou/ch10/g207r1531\" itemprop=\"url\" data-click-name=\"北京路商业区茶餐厅\" data-click-title=\"页尾导航\"> 北京路商业区茶餐厅 </a> <a href=\"//www.dianping.com/guangzhou/ch10/g207r30509\" itemprop=\"url\" data-click-name=\"花城汇/高德置地茶餐厅\" data-click-title=\"页尾导航\"> 花城汇/高德置地茶餐厅 </a> <a href=\"//www.dianping.com/guangzhou/ch10/g207r1960\" itemprop=\"url\" data-click-name=\"中山二三路/东山口茶餐厅\" data-click-title=\"页尾导航\"> 中山二三路/东山口茶餐厅 </a> <a href=\"//www.dianping.com/guangzhou/ch10/g207r30560\" itemprop=\"url\" data-click-name=\"小北/淘金茶餐厅\" data-click-title=\"页尾导航\"> 小北/淘金茶餐厅 </a> <a href=\"//www.dianping.com/guangzhou/ch10/g207r1537\" itemprop=\"url\" data-click-name=\"江南大道沿线茶餐厅\" data-click-title=\"页尾导航\"> 江南大道沿线茶餐厅 </a> <a href=\"//www.dianping.com/guangzhou/ch10/g207r2602\" itemprop=\"url\" data-click-name=\"江南西茶餐厅\" data-click-title=\"页尾导航\"> 江南西茶餐厅 </a> <a href=\"//www.dianping.com/guangzhou/ch10/g207r1520\" itemprop=\"url\" data-click-name=\"天河北/广州东站茶餐厅\" data-click-title=\"页尾导航\"> 天河北/广州东站茶餐厅 </a> <a href=\"//www.dianping.com/guangzhou/ch10/g207r1521\" itemprop=\"url\" data-click-name=\"石牌/龙口茶餐厅\" data-click-title=\"页尾导航\"> 石牌/龙口茶餐厅 </a> </div> <div class=\"nc-items Hide\"> <a href=\"//www.dianping.com/shop/k90fTFJ41S5JE7qL\" itemprop=\"url\" data-click-name=\"肥韬金牌茶餐厅(广州首店)\" data-click-title=\"页尾导航\"> 肥韬金牌茶餐厅(广州首店) </a> <a href=\"//www.dianping.com/shop/G1EVsVPQu4JGHqqT\" itemprop=\"url\" data-click-name=\"文通冰室(天河南二路店)\" data-click-title=\"页尾导航\"> 文通冰室(天河南二路店) </a> <a href=\"//www.dianping.com/shop/k8zGdAlyVtlrM3Dw\" itemprop=\"url\" data-click-name=\"文通冰室(珠江新城店)\" data-click-title=\"页尾导航\"> 文通冰室(珠江新城店) </a> <a href=\"//www.dianping.com/shop/H6Xaf43QaQ0SdsuR\" itemprop=\"url\" data-click-name=\"文通冰室(北京路店)\" data-click-title=\"页尾导航\"> 文通冰室(北京路店) </a> <a href=\"//www.dianping.com/shop/H5XpSK2Sj1SwWtRS\" itemprop=\"url\" data-click-name=\"富贵食饭公司(江南西润汇店)\" data-click-title=\"页尾导航\"> 富贵食饭公司(江南西润汇店) </a> <a href=\"//www.dianping.com/shop/H5gtco8gSmrpb1gX\" itemprop=\"url\" data-click-name=\"文通冰室(富力海珠城店)\" data-click-title=\"页尾导航\"> 文通冰室(富力海珠城店) </a> <a href=\"//www.dianping.com/shop/k4dwOXoD1arOfcKm\" itemprop=\"url\" data-click-name=\"文通冰室(五月花店)\" data-click-title=\"页尾导航\"> 文通冰室(五月花店) </a> <a href=\"//www.dianping.com/shop/EKtvvWk7e17cXo2M\" itemprop=\"url\" data-click-name=\"富贵食饭公司(江南西海珠城店)\" data-click-title=\"页尾导航\"> 富贵食饭公司(江南西海珠城店) </a> <a href=\"//www.dianping.com/shop/k6xCgQXnpkxFVZbl\" itemprop=\"url\" data-click-name=\"新斗记·新派粤菜(高德置地旗舰店)\" data-click-title=\"页尾导航\"> 新斗记·新派粤菜(高德置地旗舰店) </a> <a href=\"//www.dianping.com/shop/l62SxBnrzkaPUn6b\" itemprop=\"url\" data-click-name=\"楼上大排档· 啫啫煲小炒宵夜\" data-click-title=\"页尾导航\"> 楼上大排档· 啫啫煲小炒宵夜 </a> </div> <div class=\"nc-items Hide\"> <a href=\"//www.dianping.com/guangzhou/ch10\" itemprop=\"url\" data-click-name=\"广州美食\" data-click-title=\"页尾导航\"> 广州美食 </a> <a href=\"//www.dianping.com/guangzhou/ch15\" itemprop=\"url\" data-click-name=\"广州K歌\" data-click-title=\"页尾导航\"> 广州K歌 </a> <a href=\"//www.dianping.com/guangzhou/ch20\" itemprop=\"url\" data-click-name=\"广州购物\" data-click-title=\"页尾导航\"> 广州购物 </a> <a href=\"//www.dianping.com/guangzhou/ch25\" itemprop=\"url\" data-click-name=\"广州电影演出赛事\" data-click-title=\"页尾导航\"> 广州电影演出赛事 </a> <a href=\"//www.dianping.com/guangzhou/ch30\" itemprop=\"url\" data-click-name=\"广州休闲娱乐\" data-click-title=\"页尾导航\"> 广州休闲娱乐 </a> <a href=\"//www.dianping.com/guangzhou/ch35\" itemprop=\"url\" data-click-name=\"广州景点/周边游\" data-click-title=\"页尾导航\"> 广州景点/周边游 </a> <a href=\"//www.dianping.com/guangzhou/ch45\" itemprop=\"url\" data-click-name=\"广州运动健身\" data-click-title=\"页尾导航\"> 广州运动健身 </a> <a href=\"//www.dianping.com/guangzhou/ch50\" itemprop=\"url\" data-click-name=\"广州丽人\" data-click-title=\"页尾导航\"> 广州丽人 </a> <a href=\"//www.dianping.com/guangzhou/ch55\" itemprop=\"url\" data-click-name=\"广州结婚\" data-click-title=\"页尾导航\"> 广州结婚 </a> <a href=\"//www.dianping.com/guangzhou/hotel\" itemprop=\"url\" data-click-name=\"广州酒店\" data-click-title=\"页尾导航\"> 广州酒店 </a> <a href=\"//www.dianping.com/guangzhou/ch65\" itemprop=\"url\" data-click-name=\"广州养车/用车\" data-click-title=\"页尾导航\"> 广州养车/用车 </a> <a href=\"//www.dianping.com/guangzhou/ch70\" itemprop=\"url\" data-click-name=\"广州亲子\" data-click-title=\"页尾导航\"> 广州亲子 </a> <a href=\"//www.dianping.com/guangzhou/ch75\" itemprop=\"url\" data-click-name=\"广州学习培训\" data-click-title=\"页尾导航\"> 广州学习培训 </a> <a href=\"//www.dianping.com/guangzhou/ch80\" itemprop=\"url\" data-click-name=\"广州生活服务\" data-click-title=\"页尾导航\"> 广州生活服务 </a> <a href=\"//www.dianping.com/guangzhou/ch85\" itemprop=\"url\" data-click-name=\"广州医疗健康\" data-click-title=\"页尾导航\"> 广州医疗健康 </a> <a href=\"//www.dianping.com/guangzhou/ch90\" itemprop=\"url\" data-click-name=\"广州家居\" data-click-title=\"页尾导航\"> 广州家居 </a> <a href=\"//www.dianping.com/guangzhou/ch95\" itemprop=\"url\" data-click-name=\"广州宠物\" data-click-title=\"页尾导航\"> 广州宠物 </a> </div> </div> </div> </div> </div> <div id=\"aside\" class=\"aside\"> <div id=\"aside-photos\" class=\"photos-container\"></div> <div id=\"aside-bottom\"></div> </div> </div> </div> <div class=\"footer-container\"> <div id=\"channel-footer\" class=\"channel-footer\"> <p class=\"links\"> <a target=\"_blank\" href=\"https://about.meituan.com\" rel=\"nofollow\">关于我们</a>| <a target=\"_blank\" href=\"https://dpapp-appeal.meituan.com/#/shopCreditRegulationPC\" rel=\"nofollow\">商户诚信公约</a>| <a target=\"_blank\" href=\"https://rules-center.meituan.com/?from=dianpingPC\" rel=\"nofollow\">规则中心</a>| <a target=\"_blank\" href=\"https://about.meituan.com/news/report\" rel=\"nofollow\">媒体报道</a>| <a target=\"_blank\" href=\"https://e.dianping.com/claimcpc/page/index?source=dp\" rel=\"nofollow\">商户入驻</a>| <a target=\"_blank\" href=\"//www.dianping.com/business/\" rel=\"nofollow\">推广服务</a>| <a target=\"_blank\" href=\"https://join.dianping.com/\" rel=\"nofollow\">人才招聘</a>| <span class=\"links-container\"> <a class=\"ext-links\" href=\"javascript:void(0);\" rel=\"nofollow\">最新咨询</a>| </span> <a target=\"_blank\" rel=\"nofollow\" href=\"https://about.meituan.com/contact?source=dp\" rel=\"nofollow\">联系我们</a>| <a target=\"_blank\" href=\"http://www.dianping.com/app/download\">应用下载</a> </p> <div class=\"ext-container Hide\"> <div class=\"link-items Hide\"> <a target=\"_blank\" href=\"//www.dianping.com/discovery/\"><span>资讯评论精选</span></a> </div> </div> <p class=\"rights\"> <span style=\"margin-right:10px;\">©2003-2021 dianping.com, All Rights Reserved.</span> <span>本站发布的所有内容，未经许可，不得转载，详见 <a rel=\"nofollow\" class=\"G\" href=\"https://rules-center.meituan.com/rules-detail/69\">《知识产权声明》</a>。 </span> </p> </div> <script> var _hmt = _hmt || []; (function() { var hm = document.createElement(\"script\"); hm.src = \"https://hm.baidu.com/hm.js?602b80cf8079ae6591966cc70a3940e7\"; var s = document.getElementsByTagName(\"script\")[0]; s.parentNode.insertBefore(hm, s); })(); </script> <script> (function(){var h=navigator.userAgent;var i=navigator.appName;var b=i.indexOf(\"Microsoft Internet Explorer\")!==-1;if(!b){return false}var d=/MSIE (\\\\d+).0/g;var e=d.exec(h);if(e&&e.length&&e[1]<9){var j=\\'<div class=\"browser-overlay\"></div><div id=\"browser-ie-con\" class=\"browser-ie-con\"><div id=\"browser-close\" class=\"close\">×</div><div class=\"browser-download chrome\"><a href=\"//www.google.cn/chrome/browser/desktop/index.html?utm_dp\" target=\"_black\" title=\"chrome\"></a></div><div class=\"browser-download firefox\"><a href=\"//www.firefox.com.cn/download/?utm_dp\" target=\"_black\" title=\"firefox\"></a></div></div>\\';var f=document.createElement(\"div\");f.id=\"browser-update-ie\";f.className=\"browser-update-ie\";f.innerHTML=j;document.body.appendChild(f);var a=document.documentElement.clientWidth||document.body.clientWidth;var c=document.getElementById(\"browser-ie-con\").offsetWidth;var g=(a-c)/2;document.getElementById(\"browser-ie-con\").style.left=g+\"px\";document.getElementById(\"browser-close\").attachEvent(\"onclick\",function(){document.getElementById(\"browser-update-ie\").style.display=\"none\"},false)}})(); </script> </div> <script> window.shop_config={ userId: 877169640, shopId: \"l85OGfGaDg6txGPV\", shopCityId: 4, shopName: \\'敏<e class=\"address\">&#xe5d6;</e>冰<e class=\"address\">&#xf4e0;</e>\\', address: \\'<e class=\"address\">&#xe9d7;</e><e class=\"address\">&#xeb30;</e><e class=\"address\">&#xe812;</e><d class=\"num\">&#xe9e5;</d><d class=\"num\">&#xefb0;</d><d class=\"num\">&#xe174;</d><e class=\"address\">&#xf199;</e><e class=\"address\">&#xe9d7;</e><e class=\"address\">&#xeb30;</e><e class=\"address\">&#xe3ff;</e><d class=\"num\">&#xf639;</d><e class=\"address\">&#xe619;</e><d class=\"num\">&#xf639;</d><d class=\"num\">&#xefb0;</d><d class=\"num\">&#xe7c3;</d><e class=\"address\">&#xf199;</e>（<e class=\"address\">&#xebeb;</e><e class=\"address\">&#xf7fe;</e><e class=\"address\">&#xf39e;</e><e class=\"address\">&#xe812;</e>C<e class=\"address\">&#xf058;</e><e class=\"address\">&#xf651;</e>）\\', publicTransit: \\'\\', cityId: \"4\", cityCnName: \"广州\", cityName: \"广州\", cityEnName: \"guangzhou\", isOverseasCity: 0, power:5, shopPower:45, voteTotal:0, district:0, shopType:10, mainRegionId:1519, categoryURLName:\"food\", shopGroupId: \"l85OGfGaDg6txGPV\", loadUserDomain:\"//www.dianping.com\", map:{ power:5, manaScore:\"0\" }, mainCategoryId:207, defaultPic:\"http://p0.meituan.net/biztone/194378481_1619669839413.jpeg%40300w_225h_1e_1c_1l%7Cwatermark%3D1%26%26r%3D1%26p%3D9%26x%3D2%26y%3D2%26relative%3D1%26o%3D20\", textCssVersion:\"mn7fl73gmx\", shopEvtId:\"l85OGfGaDg6txGPV\" } </script> <script src=\"//www.dpfile.com/app/app-pc-main/static/common.min.afe724462da9ff529198b050b4795387.js\" type=\"text/javascript\"></script><script src=\"//www.dpfile.com/app/app-pc-main/static/main-shop.min.7d66aacc6ff44203235b4c16777b120d.js\" type=\"text/javascript\"></script> <script crossorigin=\"anonymous\" src=\"//www.dpfile.com/app/owl/static/owl.min.c9f8edeb2f51fcaf4ca38a8785816f9f.js\"></script> <script> Owl.start({ project: \\'app-pc-main-shop\\', pageUrl: \\'main-shop\\' }) </script> </body> </html>'"
      ]
     },
     "execution_count": 333,
     "metadata": {},
     "output_type": "execute_result"
    }
   ],
   "source": [
    "session.get('http://www.dianping.com/shop/l85OGfGaDg6txGPV').text"
   ]
  },
  {
   "cell_type": "code",
   "execution_count": 332,
   "id": "fba75c18",
   "metadata": {},
   "outputs": [
    {
     "name": "stdout",
     "output_type": "stream",
     "text": [
      "从selenium更新cookie\n",
      "{'shopid': 'G3w49SwIgBbzaiBX', 'name': '粤集·粤菜正牌(长隆店)', 'score': ''}\n",
      "{'shopid': 'H7fXoNAkafmesfFG', 'name': '惠食佳(东风店)', 'score': ''}\n",
      "{'shopid': 'Gams6NXcwGShysQe', 'name': '惠食佳(滨江大公馆店)', 'score': ''}\n",
      "{'shopid': 'G8COFTq4XL5CzptG', 'name': '永兴烧腊(黄沙店)', 'score': ''}\n",
      "{'shopid': 'k6pvmplP2qbk4aDx', 'name': '荔園 LaiYuen', 'score': ''}\n",
      "{'shopid': 'k42yR5E22kRaBpsk', 'name': 'COLINMINT简悦厨(富力海珠城店)', 'score': ''}\n",
      "{'shopid': 'k8uScYQNiUgBiisz', 'name': '滋粥楼顺德菜(南村店)', 'score': ''}\n",
      "{'shopid': 'k2q4US1CMl9qwksR', 'name': '居心地屋かくら弐代目', 'score': ''}\n",
      "{'shopid': 'G2Rkv9xU6nLUDuIO', 'name': '尚莲·越泰LIAN Viet·Thai Cuisine(IGC天汇店)', 'score': ''}\n",
      "{'shopid': 'H1J6jh7ZQJTRaqEI', 'name': 'BE BRIGHT KITCHEN(正佳广场店)', 'score': ''}\n",
      "{'shopid': 'k4eU9aCSJl7fTjWp', 'name': '摩打食堂(珠影星光城店)', 'score': ''}\n",
      "{'shopid': 'l85OGfGaDg6txGPV', 'name': '敏华冰厅(天河城店)', 'score': ''}\n",
      "{'shopid': 'G3KjI2zA0Hoo2IZF', 'name': '禄运茶居(体育西店)', 'score': ''}\n",
      "{'shopid': 'ESAOBxzeXoQ1SkRs', 'name': '和苑酒家(时代店)', 'score': ''}\n",
      "{'shopid': 'l6PEzEsULKvbm1ih', 'name': '撚手食堂·传统粤菜(宝泰店)', 'score': ''}\n",
      "{'username': 'Joy', 'item': ['口味：4.5', '环境：4.5', '服务：4.5', '性价比：4.5'], 'content': '怎么整理图直咽?朋友同复强调去广人老牌林 周末临意getaway来\\n排害就会拉高望 了号在江杯咖啡聊聊天 多久就能上 满意\\n\\n「鳝啫啫煲」\\njuejue爱烹饪式 够够糯过鳝 下在怀疑鳗 丝腥醒到现实 汁调好 里洋葱丝香 拌饭\\n\\n「啫啫蚝烙」\\n在猪婆到蚝烙蛮惊艳 里也 通病还淀偏重 会腻 而且有露当蘸料 \\n\\n「姜汁」\\n怕姜 可以 下丰了  朋友杨甘露味也流\\n\\n[荷]：\\n堂美名词解释 下台阶候自己大民阀人家小孩（？）拍卡度\\n                            \\n\\n\\t\\t                            收起评价'}\n",
      "{'username': '爱跳舞的团子', 'item': ['口味：4.0', '环境：4.5', '服务：4.5', '性价比：4.0'], 'content': '州出，找美食发然消米厅。到还电视将米钩，儿怎错。\\n[薄]境：\\n境像片电影TVB约境。每桌之间隔，保聊密性，感。\\n：\\n因2，几色，分别分最红烧、蚝烙、鳝煲、冰淇、还莲汤。\\n红烧鳝煲最，，蘸料震惊，自，让，但用进第，脸，终于知道身外友说重庆粤。鳝煲，，。\\n蚝烙，前2块，较，但两分完大饼之后，腻字。，每块，还带着鸡蛋，配饼外酥锅巴，还美海，让你直呼平。\\n最后说那冰淇，外份，不然你知道大，脱还大甜到底道。\\n[铃]：\\n每几台门，各需求快满足，体验感较，员，还，说，先。\\n感应该道粤，进去超讲粤语，满足对粤奇心。均140几，还试。\\n                            \\n\\n\\t\\t                            收起评价'}\n",
      "{'username': 'mewoneko', 'item': ['口味：5.0', '环境：5.0', '服务：4.0', '性价比：4.0'], 'content': '次广要店，真\\n工作，排时间还可以，菜单一本，\\n蚝烙：得上次有脆米，知道海蚝烙，普香香\\n啫啫黄鳝：那，香！\\n啫啫芥兰：最蔬菜！\\n芥：酒错\\n例：我西洋菜\\n煲饭：和其菜比一，但多肉哦\\n姜雪：腻，如我可以十\\n\\n\\n\\t\\t                            收起评价'}\n",
      "{'username': 'KellyBV', 'item': ['口味：4.0', '环境：3.5', '服务：4.0', '性价比：4.0'], 'content': '[荷]境：\\n进就穿个洗服 毕浑身上啫啫煲谁都承受得住\\n\\n「烧乳」乳还阔以 常见粤准 皮那么脆 他加\\n\\n「啫啫蚝烙」第儿好吃 久些 碳油蛋液蚝 浸透油纸态….腻得慌\\n\\n「啫肠」场佳 脆口 饭佳！定要尝\\n\\n「腊饭」表错 过两食量略大 锅巴等快走！\\n\\n「丝腐乳炒通」唯光盘 太 清爽口 通杆软糯入 蔬为碳充 为过（贪心\\n\\n「汁」空间尝\\n「普洱」饱\\n\\n\\n\\t\\t                            收起评价'}\n",
      "{'username': 'Yiujm', 'item': ['口味：3.5', '环境：3.5', '服务：4.0', '性价比：3.5', '人均：100元'], 'content': '⭐推荐：\\n- 啫啫黄鳝煲：趁，然腥~黄鳝提焖过，起软，坨种~，东人得~\\n- 蚝烙：火候，起，蚝和鱿粒，淡，加点更~\\n- 红：敌入！肉也多，留一手，所最边肉边吮~\\n姜撞奶雪：个雪，姜，个姜明显，还底米粒，错~\\n\\n……麻麻地推荐：\\n- 啫啫肠：可，肠也确嚼咯~\\n- 罗身：……过咯~\\n- 香蛋：样子蛋，际里面咯~然后间料，在薄~\\n\\n境话，得舒，灯光太，照色调一~还完，身啫啫煲尴尬\\n\\n\\n\\t\\t                            收起评价'}\n",
      "{'username': 'dpuser_6629568196', 'item': ['口味：4.0', '环境：4.5', '服务：4.0', '性价比：4.0'], 'content': '多时间到惠用餐，因对。今农日，养育，吧，也喜吃鳝。\\n\\n[]：\\n店可，，但也整，基本上都小主，只呢，女卫间只，意好时候需要队。\\n\\n[务铃]务：\\n由日，上十到到店，前台前五队，十始取号，由腿脚利索，走，请前台帮忙留着号，下老，前台拒，从队！\\n\\n「鳝啫啫煲」\\n89，今已99，条鳝，口，而辣，吃块，略失！\\n\\n「蛙啫啫煲」\\n觉好，多，嫩，辣味道适老\\n\\n「啫啫鲍鱼菇」\\n非嫩，喜，，也油，胡多，辣\\n\\n日加10％，，煲，米饭，共300，，附近啫乜都也错，而五折优惠活动，店游客到广可！\\n                            \\n\\n\\t\\t                            收起评价'}\n",
      "{'username': 'Kathybabe', 'item': ['口味：5.0', '环境：4.5', '服务：4.5', '性价比：3.5', '人均：140元'], 'content': '藏黑珍珠餐\\n机会去打卡，气爆棚\\n6去到场拿，两时才\\n除排队之，没毛病\\n啫啫煲实在，每都满意\\n广州最啫啫煲，不为过\\n\\n[薄荷]环境：大堂还精致，天板画精美，还摆设古董古古，中池，进去，让口水直流\\n\\n[服]服：服还，上速度，煲仔帮亲自舀到碗，贴\\n\\n「啫地」份，，，底下咸\\n\\n「啫芥」前蔬会生啫啫煲，尝试下芥，觉呀，满意\\n\\n「上煲仔」风起，食，煲仔喷喷\\n\\n「古烧乳鸽」乳鸽定不错粤馆。只两！\\n                            \\n\\n\\t\\t                            收起评价'}\n",
      "{'username': 'anyway', 'item': ['口味：4.0', '环境：4.0', '服务：4.0', '性价比：2.0', '人均：120元'], 'content': '2021.1店\\n\\n啫煲广正餐和宵夜客，几所排档和馆都会，说能登堂室，还数惠佳，虽卖贵，排。\\n\\n[荷]境：坐落珠江南岸，午11号，在前才可能上，叫公馆境很，输餐厅。\\n\\n「啫走鸡」79，啫，量多，对是广州梯，可度。\\n\\n「啫啫蚝烙」79，名字多此举，就是板煎，“烙”煎含义，就加“啫啫”，鱿圈，蚝仔料，方ok，比较油。\\n\\n「啫啫」49，评，家猪每，更，调，啫出来拉德反nice～\\n\\n「啫苦煲」53，赏来，无掩盖苦，啫过焦香，议。\\n\\n「姜雪」16，配甜品！完各种油啫，辛而失新口适解腻。\\n\\n啫煲店，境和都，新啫口人而异，是啫部分口相近，多会疲劳。\\n                            \\n\\n\\t\\t                            收起评价'}\n",
      "{'username': '小串', 'item': ['口味：5.0', '环境：4.5', '服务：4.5', '性价比：5.0', '人均：150元'], 'content': '老劲旅阵营又添。\\n兜兜久潮。从广州时候就惦记，了又觉交太，每天，逮小终。\\n秀，格算合范，开，里如果作为民带关近聚，啫啫煲仿有近与距离，而完全担度况！\\n\\n「啫啫舌」嫩！舌介于厚薄间状态，咬有扎实度，时整又受灵柔韧。汁水丰，嫩舌缀料颗粒（黑椒？）相益彰，咀样物绝对快乐历程。\\n「啫生肠」了生肠，真奇特。整体韧，有点类，料味型复，舌有重复，！\\n「咸啫煲」直听别说，居然真味了？道种问题咸润咸，里味，仍有清疏朗，本怕有吃。\\n「姜汁」「柚皮」里喜欢者，虽然柚皮味甚。\\n「」真错！超彬妈糖水里，之试为观止，又，觉小。糯糯融合，黏腻而，颇有之态，喜欢。\\n\\n除了排队外样。之打卡他啫啫煲，觉奇，里尝完豁然开朗。堂皇精美高厅，里贴触缕——厅外潮汹涌，台边嬉举，些年龄毯些历事已久沉稳渍，头灯火写色。\\n再。\\n                            \\n\\n\\t\\t                            收起评价'}\n",
      "{'username': '碎碎念的包', 'item': ['口味：3.0', '环境：3.5', '服务：3.0', '性价比：2.5'], 'content': '[薄荷]环:\\n河边上，店实公馆，内国时期官家feel。进门海鲜区，迷 \\n[务]务:\\n作午，比较早，以空，传队。务，位员，标准化。们普劝退，全个频，\\n🌈菜品：\\n师啫，以上菜速度算快。端上煲揭开搅拌时候，其起，整个厅会弥漫着种。\\n「鳝啫啫煲」和长鳝，里鳝去骨，以实更像，火候OK，上鲜上，就寡（盐），想\\n「蛙啫啫煲」长蛙。格紧实，嫩，入\\n「白灼菜」意吃，新鲜甜\\n「姜」。特色淇淋下面垫着炒\\n总，能它吃，真符合。且家啫啫煲就用价比。真推荐，本长朋友，路盆友们呢？\\n                            \\n\\n\\t\\t                            收起评价'}\n",
      "{'username': '爱喝Whisky的可乐', 'item': ['口味：4.5', '环境：4.5', '服务：4.5', '性价比：4.0'], 'content': '佳 滨公馆 4.5\\n\\xa0\\n算人皆知家，头顶米+黑珠+舌尖国光环，前直路，这改个地方有区别。\\n\\n[荷]环境：坐，入局装修点复古气息，对得公馆这个号。有阳包间，能观景，总旧要好多。\\n\\n[]：\\n旧长队，场管算行，包间整于。\\n菜：\\n「黄鳝啫啫煲」啫啫黄鳝、、蚝烙，啫啫锅高，桌随着滋滋声，开盖香味，啫啫牛当，感当满。\\n\\n「富虾」招，这家得有9两，，能错过，整！虾嫩 ，，酥里嫩，虾配糠，格。两筷子粗红入，满感言喻。\\n\\n「啫啫」这，总有，被人冠暴残感觉。实际惊，高桌，锅跳动，入嫩，惯尝试。\\n\\n餐甜点择「姜糕」辣点，颇具广味。\\n\\n总来，整环境好，平当，滨有多海，包厢模，适合宴请。如果三五聚，家队少去家。\\n                            \\n\\n\\t\\t                            收起评价'}\n",
      "{'username': '百亿富婆nano', 'item': ['口味：4.5', '环境：4.0', '服务：4.0', '性价比：4.0'], 'content': '💭，只要机就佳滨江路。\\n总，第次较天，副，。\\n\\n⚠️疫期间涨价了，开了公众取，就么了。\\n\\n💕评论常诟服务，我直，次，服务小、阿常气到。\\n\\n🍱啫啫列说，较稳，偶尔到翻车，次错，他们啫啫煲可以胆点，完全。皮肠要，葱，点；点失望，皮，而且很，里面着葱肠。\\n\\n他们腊煲饭，远！！！次因才，跟香啊他起，！！！\\n\\n 🥬中泰椒娃娃，喜湘喜，正我喜胜他们很那虾。\\n\\n🍦冰淇淋呢，较荐列，如、撞奶；既解腻，btw他们皮炸雪内列，爱避！\\n\\n❌梅牛煲整，清甜，可能包邮或闽朋喜，正对我说，么风，而牛，寡着些甜，常诡。\\n                            \\n\\n\\t\\t                            收起评价'}\n",
      "{'username': 'Lecter', 'item': ['口味：4.0', '环境：4.5', '服务：4.5', '性价比：2.5', '人均：160元'], 'content': '广居我现家我”便宜”其林黑珠餐，怎试试。珠江隔，散着步餐，半小时有等位，气很火爆。\\n[铃]：\\n员会引导你坐下，下菜单，后要叫员单，你。\\n「啫啫蚝烙」美蚝鸡蛋合，香，鱿缀，虽有些，但，至在餐\\n「腊煲仔」去比系列，砂，铲底摩擦音，似焦非焦巴，简直。我脑，实，盘无奇煲仔，在分\\n「姜撞奶淇淋」记告诉员，才想，退，遗憾，评论说极。\\n「牛啫啫煲」滋滋响牛，出汁香，韭菜。，。\\n「烧鸽」！鸽烤嫩，尤其里面感。，皮后够感回很香，。\\n\\n总呢，为第其林验话，确确会有种””失望感受，考虑性价比，虽价格小，但在接受围，在附近以去。\\n                            \\n\\n\\t\\t                            收起评价'}\n",
      "{'username': '那就来一碗沾面吧', 'item': ['口味：4.5', '环境：4.5', '服务：2.5', '性价比：3.5', '人均：200元'], 'content': '🥢行正选特色啫啫煲，众相中统惠佳\\n   约8.9点到，依排儿队，10钟即可\\r\\xa0\\xa0\\xa0全点啫啫煲，「啫啫蚝烙」「咸黄啫煲」「啫啫雪牛肉煲」味道都不错，砂锅端上嗞嗞响，打开盖上顿舒\\n\\n「啫啫蚝烙」\\n   和闽蛎不，蒜叶，和粉例也高，外加鱿鱼，候控制得鱿鱼蛎和饼都嫩\\n「橄榄菜焖天使幼粉」\\r    ，口硬，除橄榄菜别\\n「姜撞淇淋」\\r\\xa0\\xa0\\xa0 应该特色口味，平喜欢姜撞所淇淋挺戳中\\n\\n[铃]：\\n    ，理解工下班，客打扫不卫生且影响欲。说，般般\\n                            \\n\\n\\t\\t                            收起评价'}\n",
      "{'username': '傅某', 'item': ['口味：4.0', '环境：4.0', '服务：4.0', '性价比：4.0', '人均：350元'], 'content': '朋州玩，临决带州特色啫啫煲，第间惠佳，完散散步景，离字码，买票吹吹。\\n，惠佳算过，它太多加身，容易让过期，最后际落差。\\n\\n[薄]:惠佳理置算闹静，繁又显清幽，修，等瓷器展，等欣赏。商宴者朋小聚合，唯题厢太难，客客起等够体，提前！\\n\\n[铃]:坐厢，叫员方，每出去，建议改。员态，声细语，。\\n\\n「黄鳝啫啫煲」黄鳝煲肯必，州无店啫啫煲，黄鳝煲基本招牌。正当令黄鳝种独特肥美，肉质丰腴，入嫩\\n「芥兰啫啫煲」芥兰应该算记忆，记小常做，薄铁锅锅，做成啫啫煲形少见，会更柔，盐把，会太咸\\n「煲仔」州字给碗票，牌，肠甜，煲火刚刚好，锅巴焦\\n「肠」肠葱，般\\n「」顿最惊艳，常郁，明显出巴旦苦，入后闻苦药，化后甜，常丝，增加感，把融入年更容易受东，真\\n「」，摒弃辛辣感，撞感觉\\n「」本身，纯，欢会欢\\n(现，原对独，管，反正自评怎怎\\n「」「蝶豆蔓莓」两言普通，好好\\n\\n总体，惠佳，格偏，般常肯会，商宴者招客体，修府特色，除关琉窗隔断，匆忙身，多方照。，客会访！\\n                            \\n\\n\\t\\t                            收起评价'}\n"
     ]
    }
   ],
   "source": [
    "process_cookie(refresh_cookie)\n",
    "shop_info = fetch_shoplist()\n",
    "for _ in shop_info:\n",
    "    print(_)\n",
    "\n",
    "shopid = shop_info[2]['shopid']  # 这里也可以用for来遍历，但要适当加延时\n",
    "comment_list = fetch_comment(shopid=shopid, page=1)\n",
    "# print(comment_list)\n",
    "for _ in comment_list:\n",
    "    print(_)"
   ]
  },
  {
   "cell_type": "code",
   "execution_count": null,
   "id": "2f40608d",
   "metadata": {},
   "outputs": [],
   "source": []
  }
 ],
 "metadata": {
  "kernelspec": {
   "display_name": "Python 3 (ipykernel)",
   "language": "python",
   "name": "python3"
  },
  "language_info": {
   "codemirror_mode": {
    "name": "ipython",
    "version": 3
   },
   "file_extension": ".py",
   "mimetype": "text/x-python",
   "name": "python",
   "nbconvert_exporter": "python",
   "pygments_lexer": "ipython3",
   "version": "3.7.3"
  },
  "toc": {
   "base_numbering": 1,
   "nav_menu": {},
   "number_sections": true,
   "sideBar": true,
   "skip_h1_title": false,
   "title_cell": "Table of Contents",
   "title_sidebar": "Contents",
   "toc_cell": false,
   "toc_position": {},
   "toc_section_display": true,
   "toc_window_display": true
  },
  "varInspector": {
   "cols": {
    "lenName": 16,
    "lenType": 16,
    "lenVar": 40
   },
   "kernels_config": {
    "python": {
     "delete_cmd_postfix": "",
     "delete_cmd_prefix": "del ",
     "library": "var_list.py",
     "varRefreshCmd": "print(var_dic_list())"
    },
    "r": {
     "delete_cmd_postfix": ") ",
     "delete_cmd_prefix": "rm(",
     "library": "var_list.r",
     "varRefreshCmd": "cat(var_dic_list()) "
    }
   },
   "types_to_exclude": [
    "module",
    "function",
    "builtin_function_or_method",
    "instance",
    "_Feature"
   ],
   "window_display": false
  }
 },
 "nbformat": 4,
 "nbformat_minor": 5
}
